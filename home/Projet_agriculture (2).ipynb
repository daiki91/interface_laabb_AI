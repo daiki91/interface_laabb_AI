{
  "cells": [
    {
      "cell_type": "markdown",
      "metadata": {
        "id": "1CMv_0C-14PC"
      },
      "source": [
        "#IMPORTATION DES PACKAGES\n",
        "\n"
      ]
    },
    {
      "cell_type": "markdown",
      "metadata": {
        "id": "xpc5iTX614PE"
      },
      "source": [
        "L'agriculture joue un rôle essentiel dans l'économie mondiale. Avec l’expansion continue de la population humaine, la compréhension des rendements agricoles mondiaux est essentielle pour relever les défis de la sécurité alimentaire et réduire les impacts du changement climatique.\n",
        "\n",
        "La prévision du rendement des cultures est un problème agricole important. Le rendement agricole dépend principalement des conditions météorologiques (pluie, température, etc.), des pesticides et des informations précises sur l'historique du rendement des cultures sont un élément important pour prendre des décisions liées à la gestion des risques agricoles et aux prévisions futures\n"
      ]
    },
    {
      "cell_type": "code",
      "execution_count": 125,
      "metadata": {
        "id": "-mTezYwF2Ufv"
      },
      "outputs": [],
      "source": [
        "import numpy as np\n",
        "import pandas as pd\n",
        "import matplotlib.pyplot as plt\n",
        "import seaborn as sns"
      ]
    },
    {
      "cell_type": "markdown",
      "metadata": {
        "id": "VII19tD714PF"
      },
      "source": [
        "# PREPARATION DES DONNEES"
      ]
    },
    {
      "cell_type": "code",
      "execution_count": 178,
      "metadata": {
        "colab": {
          "base_uri": "https://localhost:8080/"
        },
        "id": "XQQ4j87R28P7",
        "outputId": "9907022b-e4a0-4e22-a52f-998551e75205"
      },
      "outputs": [],
      "source": [
        "path_data = 'yield_df.csv'\n",
        "df = pd.read_csv(path_data, sep=',')\n",
        "df['types_de_sols'] = np.random.choice([\"Argileux\", \"Sableux\", \"Limoneux\"], size=len(df))\n",
        "\n",
        "df =df.drop('Unnamed: 0', axis=1)\n",
        "\n",
        "# df"
      ]
    },
    {
      "cell_type": "code",
      "execution_count": 179,
      "metadata": {
        "id": "PNv69j46tKET"
      },
      "outputs": [],
      "source": [
        "df.groupby('Area').count()\n",
        "# Créer un dictionnaire de correspondance entre les pays et les régions du Sénégal\n",
        "senegal_regions = {\n",
        "    'Albania': 'Dakar', 'Algeria': 'Dakar', 'Angola': 'Thiès', 'Argentina': 'Thiès',\n",
        "    'Armenia': 'Fatick', 'Australia':'Fatick' , 'Austria': 'Kaffrine', 'Azerbaijan': 'Kaffrine',\n",
        "    'Bahamas': 'Kédougou', 'Bahrain': 'Kédougou', 'Bangladesh':'Kolda' , 'Belarus':'Kolda' ,\n",
        "    'Belgium':'Louga' , 'Botswana':'Louga' ,\n",
        "    'Brazil': 'Matam', 'Bulgaria': 'Matam', 'Burkina Faso': 'Saint-Louis', 'Burundi': 'Saint-Louis',\n",
        "    'Cameroon': 'Sédhiou', 'Canada': 'Sédhiou', 'Central African Republic': 'Tambacounda',\n",
        "    'Chile': 'Tambacounda', 'Colombia': 'Tambacounda', 'Croatia': 'Ziguinchor', 'Denmark': 'Ziguinchor',\n",
        "}\n",
        "plante = {'Maize': 'Mais', 'Potatoes':'Pattate', 'Rice, paddy':'Rice', 'Sorghum':'Sorgho','Soybeans': 'Mil', 'Wheat':'Arachide',\n",
        "       'Cassava':'Fonio', 'Sweet potatoes':'Manioc', 'Plantains and others':'Niebe', 'Yams':'Bissap'}\n",
        "# Ajouter une nouvelle colonne \"Region\" en utilisant le dictionnaire de correspondance\n",
        "df[\"Area\"] = df[\"Area\"].map(senegal_regions)\n",
        "df[\"Item\"] = df[\"Item\"].map(plante)\n",
        "\n",
        "df = df.dropna(axis =0)\n"
      ]
    },
    {
      "cell_type": "code",
      "execution_count": 180,
      "metadata": {
        "colab": {
          "base_uri": "https://localhost:8080/"
        },
        "id": "lQIz-aGrHZHO",
        "outputId": "e0ff43de-ef71-46a6-c371-7c71608d84b2"
      },
      "outputs": [
        {
          "data": {
            "text/html": [
              "<div>\n",
              "<style scoped>\n",
              "    .dataframe tbody tr th:only-of-type {\n",
              "        vertical-align: middle;\n",
              "    }\n",
              "\n",
              "    .dataframe tbody tr th {\n",
              "        vertical-align: top;\n",
              "    }\n",
              "\n",
              "    .dataframe thead th {\n",
              "        text-align: right;\n",
              "    }\n",
              "</style>\n",
              "<table border=\"1\" class=\"dataframe\">\n",
              "  <thead>\n",
              "    <tr style=\"text-align: right;\">\n",
              "      <th></th>\n",
              "      <th>Area</th>\n",
              "      <th>Item</th>\n",
              "      <th>Year</th>\n",
              "      <th>hg/ha_yield</th>\n",
              "      <th>average_rain_fall_mm_per_year</th>\n",
              "      <th>pesticides_tonnes</th>\n",
              "      <th>avg_temp</th>\n",
              "      <th>types_de_sols</th>\n",
              "    </tr>\n",
              "  </thead>\n",
              "  <tbody>\n",
              "    <tr>\n",
              "      <th>0</th>\n",
              "      <td>Dakar</td>\n",
              "      <td>Mais</td>\n",
              "      <td>1990</td>\n",
              "      <td>36613</td>\n",
              "      <td>1485.0</td>\n",
              "      <td>121.0</td>\n",
              "      <td>16.37</td>\n",
              "      <td>Limoneux</td>\n",
              "    </tr>\n",
              "    <tr>\n",
              "      <th>1</th>\n",
              "      <td>Dakar</td>\n",
              "      <td>Pattate</td>\n",
              "      <td>1990</td>\n",
              "      <td>66667</td>\n",
              "      <td>1485.0</td>\n",
              "      <td>121.0</td>\n",
              "      <td>16.37</td>\n",
              "      <td>Sableux</td>\n",
              "    </tr>\n",
              "    <tr>\n",
              "      <th>2</th>\n",
              "      <td>Dakar</td>\n",
              "      <td>Rice</td>\n",
              "      <td>1990</td>\n",
              "      <td>23333</td>\n",
              "      <td>1485.0</td>\n",
              "      <td>121.0</td>\n",
              "      <td>16.37</td>\n",
              "      <td>Limoneux</td>\n",
              "    </tr>\n",
              "    <tr>\n",
              "      <th>3</th>\n",
              "      <td>Dakar</td>\n",
              "      <td>Sorgho</td>\n",
              "      <td>1990</td>\n",
              "      <td>12500</td>\n",
              "      <td>1485.0</td>\n",
              "      <td>121.0</td>\n",
              "      <td>16.37</td>\n",
              "      <td>Sableux</td>\n",
              "    </tr>\n",
              "    <tr>\n",
              "      <th>4</th>\n",
              "      <td>Dakar</td>\n",
              "      <td>Mil</td>\n",
              "      <td>1990</td>\n",
              "      <td>7000</td>\n",
              "      <td>1485.0</td>\n",
              "      <td>121.0</td>\n",
              "      <td>16.37</td>\n",
              "      <td>Argileux</td>\n",
              "    </tr>\n",
              "    <tr>\n",
              "      <th>...</th>\n",
              "      <td>...</td>\n",
              "      <td>...</td>\n",
              "      <td>...</td>\n",
              "      <td>...</td>\n",
              "      <td>...</td>\n",
              "      <td>...</td>\n",
              "      <td>...</td>\n",
              "      <td>...</td>\n",
              "    </tr>\n",
              "    <tr>\n",
              "      <th>7085</th>\n",
              "      <td>Ziguinchor</td>\n",
              "      <td>Arachide</td>\n",
              "      <td>2007</td>\n",
              "      <td>65610</td>\n",
              "      <td>703.0</td>\n",
              "      <td>3336.0</td>\n",
              "      <td>9.87</td>\n",
              "      <td>Limoneux</td>\n",
              "    </tr>\n",
              "    <tr>\n",
              "      <th>7086</th>\n",
              "      <td>Ziguinchor</td>\n",
              "      <td>Pattate</td>\n",
              "      <td>2008</td>\n",
              "      <td>416339</td>\n",
              "      <td>703.0</td>\n",
              "      <td>4145.0</td>\n",
              "      <td>9.82</td>\n",
              "      <td>Argileux</td>\n",
              "    </tr>\n",
              "    <tr>\n",
              "      <th>7087</th>\n",
              "      <td>Ziguinchor</td>\n",
              "      <td>Arachide</td>\n",
              "      <td>2008</td>\n",
              "      <td>78638</td>\n",
              "      <td>703.0</td>\n",
              "      <td>4145.0</td>\n",
              "      <td>9.82</td>\n",
              "      <td>Argileux</td>\n",
              "    </tr>\n",
              "    <tr>\n",
              "      <th>7088</th>\n",
              "      <td>Ziguinchor</td>\n",
              "      <td>Pattate</td>\n",
              "      <td>2009</td>\n",
              "      <td>415861</td>\n",
              "      <td>703.0</td>\n",
              "      <td>2836.0</td>\n",
              "      <td>9.22</td>\n",
              "      <td>Argileux</td>\n",
              "    </tr>\n",
              "    <tr>\n",
              "      <th>7089</th>\n",
              "      <td>Ziguinchor</td>\n",
              "      <td>Arachide</td>\n",
              "      <td>2009</td>\n",
              "      <td>80373</td>\n",
              "      <td>703.0</td>\n",
              "      <td>2836.0</td>\n",
              "      <td>9.22</td>\n",
              "      <td>Sableux</td>\n",
              "    </tr>\n",
              "  </tbody>\n",
              "</table>\n",
              "<p>7090 rows × 8 columns</p>\n",
              "</div>"
            ],
            "text/plain": [
              "            Area      Item  Year  hg/ha_yield  average_rain_fall_mm_per_year  \\\n",
              "0          Dakar      Mais  1990        36613                         1485.0   \n",
              "1          Dakar   Pattate  1990        66667                         1485.0   \n",
              "2          Dakar      Rice  1990        23333                         1485.0   \n",
              "3          Dakar    Sorgho  1990        12500                         1485.0   \n",
              "4          Dakar       Mil  1990         7000                         1485.0   \n",
              "...          ...       ...   ...          ...                            ...   \n",
              "7085  Ziguinchor  Arachide  2007        65610                          703.0   \n",
              "7086  Ziguinchor   Pattate  2008       416339                          703.0   \n",
              "7087  Ziguinchor  Arachide  2008        78638                          703.0   \n",
              "7088  Ziguinchor   Pattate  2009       415861                          703.0   \n",
              "7089  Ziguinchor  Arachide  2009        80373                          703.0   \n",
              "\n",
              "      pesticides_tonnes  avg_temp types_de_sols  \n",
              "0                 121.0     16.37      Limoneux  \n",
              "1                 121.0     16.37       Sableux  \n",
              "2                 121.0     16.37      Limoneux  \n",
              "3                 121.0     16.37       Sableux  \n",
              "4                 121.0     16.37      Argileux  \n",
              "...                 ...       ...           ...  \n",
              "7085             3336.0      9.87      Limoneux  \n",
              "7086             4145.0      9.82      Argileux  \n",
              "7087             4145.0      9.82      Argileux  \n",
              "7088             2836.0      9.22      Argileux  \n",
              "7089             2836.0      9.22       Sableux  \n",
              "\n",
              "[7090 rows x 8 columns]"
            ]
          },
          "execution_count": 180,
          "metadata": {},
          "output_type": "execute_result"
        }
      ],
      "source": [
        "\n",
        "# df.to_csv('iibs_dataM1.csv', index=False\n",
        "df"
      ]
    },
    {
      "cell_type": "code",
      "execution_count": 181,
      "metadata": {
        "id": "jXUDtOGP14PF"
      },
      "outputs": [],
      "source": [
        "import pandas as pd\n",
        "import numpy as np\n"
      ]
    },
    {
      "cell_type": "code",
      "execution_count": 182,
      "metadata": {
        "colab": {
          "base_uri": "https://localhost:8080/",
          "height": 226
        },
        "id": "DJbQxKOL14PG",
        "outputId": "d4607e5d-0693-43f4-84ea-639cbc3e9952"
      },
      "outputs": [
        {
          "data": {
            "text/html": [
              "<div>\n",
              "<style scoped>\n",
              "    .dataframe tbody tr th:only-of-type {\n",
              "        vertical-align: middle;\n",
              "    }\n",
              "\n",
              "    .dataframe tbody tr th {\n",
              "        vertical-align: top;\n",
              "    }\n",
              "\n",
              "    .dataframe thead th {\n",
              "        text-align: right;\n",
              "    }\n",
              "</style>\n",
              "<table border=\"1\" class=\"dataframe\">\n",
              "  <thead>\n",
              "    <tr style=\"text-align: right;\">\n",
              "      <th></th>\n",
              "      <th>Area</th>\n",
              "      <th>Item</th>\n",
              "      <th>Year</th>\n",
              "      <th>hg/ha_yield</th>\n",
              "      <th>average_rain_fall_mm_per_year</th>\n",
              "      <th>pesticides_tonnes</th>\n",
              "      <th>avg_temp</th>\n",
              "      <th>types_de_sols</th>\n",
              "    </tr>\n",
              "  </thead>\n",
              "  <tbody>\n",
              "    <tr>\n",
              "      <th>0</th>\n",
              "      <td>Dakar</td>\n",
              "      <td>Mais</td>\n",
              "      <td>1990</td>\n",
              "      <td>36613</td>\n",
              "      <td>1485.0</td>\n",
              "      <td>121.0</td>\n",
              "      <td>16.37</td>\n",
              "      <td>Limoneux</td>\n",
              "    </tr>\n",
              "    <tr>\n",
              "      <th>1</th>\n",
              "      <td>Dakar</td>\n",
              "      <td>Pattate</td>\n",
              "      <td>1990</td>\n",
              "      <td>66667</td>\n",
              "      <td>1485.0</td>\n",
              "      <td>121.0</td>\n",
              "      <td>16.37</td>\n",
              "      <td>Sableux</td>\n",
              "    </tr>\n",
              "    <tr>\n",
              "      <th>2</th>\n",
              "      <td>Dakar</td>\n",
              "      <td>Rice</td>\n",
              "      <td>1990</td>\n",
              "      <td>23333</td>\n",
              "      <td>1485.0</td>\n",
              "      <td>121.0</td>\n",
              "      <td>16.37</td>\n",
              "      <td>Limoneux</td>\n",
              "    </tr>\n",
              "    <tr>\n",
              "      <th>3</th>\n",
              "      <td>Dakar</td>\n",
              "      <td>Sorgho</td>\n",
              "      <td>1990</td>\n",
              "      <td>12500</td>\n",
              "      <td>1485.0</td>\n",
              "      <td>121.0</td>\n",
              "      <td>16.37</td>\n",
              "      <td>Sableux</td>\n",
              "    </tr>\n",
              "    <tr>\n",
              "      <th>4</th>\n",
              "      <td>Dakar</td>\n",
              "      <td>Mil</td>\n",
              "      <td>1990</td>\n",
              "      <td>7000</td>\n",
              "      <td>1485.0</td>\n",
              "      <td>121.0</td>\n",
              "      <td>16.37</td>\n",
              "      <td>Argileux</td>\n",
              "    </tr>\n",
              "  </tbody>\n",
              "</table>\n",
              "</div>"
            ],
            "text/plain": [
              "    Area     Item  Year  hg/ha_yield  average_rain_fall_mm_per_year  \\\n",
              "0  Dakar     Mais  1990        36613                         1485.0   \n",
              "1  Dakar  Pattate  1990        66667                         1485.0   \n",
              "2  Dakar     Rice  1990        23333                         1485.0   \n",
              "3  Dakar   Sorgho  1990        12500                         1485.0   \n",
              "4  Dakar      Mil  1990         7000                         1485.0   \n",
              "\n",
              "   pesticides_tonnes  avg_temp types_de_sols  \n",
              "0              121.0     16.37      Limoneux  \n",
              "1              121.0     16.37       Sableux  \n",
              "2              121.0     16.37      Limoneux  \n",
              "3              121.0     16.37       Sableux  \n",
              "4              121.0     16.37      Argileux  "
            ]
          },
          "execution_count": 182,
          "metadata": {},
          "output_type": "execute_result"
        }
      ],
      "source": [
        "\n",
        "df.head()"
      ]
    },
    {
      "cell_type": "code",
      "execution_count": 185,
      "metadata": {
        "colab": {
          "base_uri": "https://localhost:8080/"
        },
        "id": "5Bgcz-aD14PH",
        "outputId": "ce30d013-37d3-42d0-d346-3b17a46e1c69"
      },
      "outputs": [
        {
          "data": {
            "text/plain": [
              "(7090, 8)"
            ]
          },
          "execution_count": 185,
          "metadata": {},
          "output_type": "execute_result"
        }
      ],
      "source": [
        "df.shape\n",
        "#Voir les dimensions"
      ]
    },
    {
      "cell_type": "code",
      "execution_count": 186,
      "metadata": {
        "colab": {
          "base_uri": "https://localhost:8080/"
        },
        "id": "KA4gdRQQ14PH",
        "outputId": "bf909aa6-6b4d-4f72-82fe-09c1b21270a4"
      },
      "outputs": [
        {
          "name": "stdout",
          "output_type": "stream",
          "text": [
            "<class 'pandas.core.frame.DataFrame'>\n",
            "Index: 7090 entries, 0 to 7089\n",
            "Data columns (total 8 columns):\n",
            " #   Column                         Non-Null Count  Dtype  \n",
            "---  ------                         --------------  -----  \n",
            " 0   Area                           7090 non-null   object \n",
            " 1   Item                           7090 non-null   object \n",
            " 2   Year                           7090 non-null   int64  \n",
            " 3   hg/ha_yield                    7090 non-null   int64  \n",
            " 4   average_rain_fall_mm_per_year  7090 non-null   float64\n",
            " 5   pesticides_tonnes              7090 non-null   float64\n",
            " 6   avg_temp                       7090 non-null   float64\n",
            " 7   types_de_sols                  7090 non-null   object \n",
            "dtypes: float64(3), int64(2), object(3)\n",
            "memory usage: 498.5+ KB\n"
          ]
        }
      ],
      "source": [
        "df.info()\n",
        "#Info de note dataset"
      ]
    },
    {
      "cell_type": "code",
      "execution_count": 184,
      "metadata": {
        "colab": {
          "base_uri": "https://localhost:8080/"
        },
        "id": "k-Vux01314PH",
        "outputId": "1d481024-68fd-4f46-8af9-eb93cb00ca98"
      },
      "outputs": [
        {
          "data": {
            "text/plain": [
              "Area                             0\n",
              "Item                             0\n",
              "Year                             0\n",
              "hg/ha_yield                      0\n",
              "average_rain_fall_mm_per_year    0\n",
              "pesticides_tonnes                0\n",
              "avg_temp                         0\n",
              "types_de_sols                    0\n",
              "dtype: int64"
            ]
          },
          "execution_count": 184,
          "metadata": {},
          "output_type": "execute_result"
        }
      ],
      "source": [
        "df.isnull().sum()"
      ]
    },
    {
      "cell_type": "code",
      "execution_count": 187,
      "metadata": {
        "colab": {
          "base_uri": "https://localhost:8080/",
          "height": 226
        },
        "id": "xoRVhGAz14PI",
        "outputId": "3707a561-f795-46dc-f064-9940ec5d439e"
      },
      "outputs": [
        {
          "data": {
            "text/html": [
              "<div>\n",
              "<style scoped>\n",
              "    .dataframe tbody tr th:only-of-type {\n",
              "        vertical-align: middle;\n",
              "    }\n",
              "\n",
              "    .dataframe tbody tr th {\n",
              "        vertical-align: top;\n",
              "    }\n",
              "\n",
              "    .dataframe thead th {\n",
              "        text-align: right;\n",
              "    }\n",
              "</style>\n",
              "<table border=\"1\" class=\"dataframe\">\n",
              "  <thead>\n",
              "    <tr style=\"text-align: right;\">\n",
              "      <th></th>\n",
              "      <th>Area</th>\n",
              "      <th>Item</th>\n",
              "      <th>Year</th>\n",
              "      <th>hg/ha_yield</th>\n",
              "      <th>average_rain_fall_mm_per_year</th>\n",
              "      <th>pesticides_tonnes</th>\n",
              "      <th>avg_temp</th>\n",
              "      <th>types_de_sols</th>\n",
              "    </tr>\n",
              "  </thead>\n",
              "  <tbody>\n",
              "    <tr>\n",
              "      <th>0</th>\n",
              "      <td>Dakar</td>\n",
              "      <td>Mais</td>\n",
              "      <td>1990</td>\n",
              "      <td>36613</td>\n",
              "      <td>1485.0</td>\n",
              "      <td>121.0</td>\n",
              "      <td>16.37</td>\n",
              "      <td>Limoneux</td>\n",
              "    </tr>\n",
              "    <tr>\n",
              "      <th>1</th>\n",
              "      <td>Dakar</td>\n",
              "      <td>Pattate</td>\n",
              "      <td>1990</td>\n",
              "      <td>66667</td>\n",
              "      <td>1485.0</td>\n",
              "      <td>121.0</td>\n",
              "      <td>16.37</td>\n",
              "      <td>Sableux</td>\n",
              "    </tr>\n",
              "    <tr>\n",
              "      <th>2</th>\n",
              "      <td>Dakar</td>\n",
              "      <td>Rice</td>\n",
              "      <td>1990</td>\n",
              "      <td>23333</td>\n",
              "      <td>1485.0</td>\n",
              "      <td>121.0</td>\n",
              "      <td>16.37</td>\n",
              "      <td>Limoneux</td>\n",
              "    </tr>\n",
              "    <tr>\n",
              "      <th>3</th>\n",
              "      <td>Dakar</td>\n",
              "      <td>Sorgho</td>\n",
              "      <td>1990</td>\n",
              "      <td>12500</td>\n",
              "      <td>1485.0</td>\n",
              "      <td>121.0</td>\n",
              "      <td>16.37</td>\n",
              "      <td>Sableux</td>\n",
              "    </tr>\n",
              "    <tr>\n",
              "      <th>4</th>\n",
              "      <td>Dakar</td>\n",
              "      <td>Mil</td>\n",
              "      <td>1990</td>\n",
              "      <td>7000</td>\n",
              "      <td>1485.0</td>\n",
              "      <td>121.0</td>\n",
              "      <td>16.37</td>\n",
              "      <td>Argileux</td>\n",
              "    </tr>\n",
              "  </tbody>\n",
              "</table>\n",
              "</div>"
            ],
            "text/plain": [
              "    Area     Item  Year  hg/ha_yield  average_rain_fall_mm_per_year  \\\n",
              "0  Dakar     Mais  1990        36613                         1485.0   \n",
              "1  Dakar  Pattate  1990        66667                         1485.0   \n",
              "2  Dakar     Rice  1990        23333                         1485.0   \n",
              "3  Dakar   Sorgho  1990        12500                         1485.0   \n",
              "4  Dakar      Mil  1990         7000                         1485.0   \n",
              "\n",
              "   pesticides_tonnes  avg_temp types_de_sols  \n",
              "0              121.0     16.37      Limoneux  \n",
              "1              121.0     16.37       Sableux  \n",
              "2              121.0     16.37      Limoneux  \n",
              "3              121.0     16.37       Sableux  \n",
              "4              121.0     16.37      Argileux  "
            ]
          },
          "execution_count": 187,
          "metadata": {},
          "output_type": "execute_result"
        }
      ],
      "source": [
        "df.head()\n",
        "#On affiche notre dataset nettoyé"
      ]
    },
    {
      "cell_type": "markdown",
      "metadata": {
        "id": "yrylMYdL14PI"
      },
      "source": [
        "df.groupby(['Area','Item']).count()"
      ]
    },
    {
      "cell_type": "code",
      "execution_count": 188,
      "metadata": {
        "colab": {
          "base_uri": "https://localhost:8080/",
          "height": 174
        },
        "id": "RUsqM-SQCZJD",
        "outputId": "f5c740e4-7252-453b-f867-2c52e626e84d"
      },
      "outputs": [
        {
          "data": {
            "text/html": [
              "<div>\n",
              "<style scoped>\n",
              "    .dataframe tbody tr th:only-of-type {\n",
              "        vertical-align: middle;\n",
              "    }\n",
              "\n",
              "    .dataframe tbody tr th {\n",
              "        vertical-align: top;\n",
              "    }\n",
              "\n",
              "    .dataframe thead th {\n",
              "        text-align: right;\n",
              "    }\n",
              "</style>\n",
              "<table border=\"1\" class=\"dataframe\">\n",
              "  <thead>\n",
              "    <tr style=\"text-align: right;\">\n",
              "      <th></th>\n",
              "      <th>Area</th>\n",
              "      <th>Item</th>\n",
              "      <th>types_de_sols</th>\n",
              "    </tr>\n",
              "  </thead>\n",
              "  <tbody>\n",
              "    <tr>\n",
              "      <th>count</th>\n",
              "      <td>7090</td>\n",
              "      <td>7090</td>\n",
              "      <td>7090</td>\n",
              "    </tr>\n",
              "    <tr>\n",
              "      <th>unique</th>\n",
              "      <td>12</td>\n",
              "      <td>10</td>\n",
              "      <td>3</td>\n",
              "    </tr>\n",
              "    <tr>\n",
              "      <th>top</th>\n",
              "      <td>Matam</td>\n",
              "      <td>Mais</td>\n",
              "      <td>Argileux</td>\n",
              "    </tr>\n",
              "    <tr>\n",
              "      <th>freq</th>\n",
              "      <td>2415</td>\n",
              "      <td>1065</td>\n",
              "      <td>2371</td>\n",
              "    </tr>\n",
              "  </tbody>\n",
              "</table>\n",
              "</div>"
            ],
            "text/plain": [
              "         Area  Item types_de_sols\n",
              "count    7090  7090          7090\n",
              "unique     12    10             3\n",
              "top     Matam  Mais      Argileux\n",
              "freq     2415  1065          2371"
            ]
          },
          "execution_count": 188,
          "metadata": {},
          "output_type": "execute_result"
        }
      ],
      "source": [
        "df.describe(include=\"O\")"
      ]
    },
    {
      "cell_type": "markdown",
      "metadata": {
        "id": "My-nWaqG14PI"
      },
      "source": [
        "## Transforming average rain fall mm per year"
      ]
    },
    {
      "cell_type": "markdown",
      "metadata": {
        "id": "XBNAHHKL14PJ"
      },
      "source": [
        "Ce code identifie les indices des lignes dans DataFrame df où les valeurs de la colonne 'average_rain_fall_mm_per_year' ne sont pas des chaînes numériques. Ces lignes peuvent être envisagées pour une suppression ou un traitement ultérieur en fonction du cas d'utilisation spécifique."
      ]
    },
    {
      "cell_type": "code",
      "execution_count": 137,
      "metadata": {
        "colab": {
          "base_uri": "https://localhost:8080/"
        },
        "id": "-bbKSW7N14PJ",
        "outputId": "2683028a-92f7-4b44-cf26-b620f89d9107"
      },
      "outputs": [
        {
          "data": {
            "text/plain": [
              "0       1485.0\n",
              "1       1485.0\n",
              "2       1485.0\n",
              "3       1485.0\n",
              "4       1485.0\n",
              "         ...  \n",
              "7085     703.0\n",
              "7086     703.0\n",
              "7087     703.0\n",
              "7088     703.0\n",
              "7089     703.0\n",
              "Name: average_rain_fall_mm_per_year, Length: 7090, dtype: float64"
            ]
          },
          "execution_count": 137,
          "metadata": {},
          "output_type": "execute_result"
        }
      ],
      "source": [
        "df['average_rain_fall_mm_per_year']"
      ]
    },
    {
      "cell_type": "code",
      "execution_count": 138,
      "metadata": {
        "colab": {
          "base_uri": "https://localhost:8080/",
          "height": 443
        },
        "id": "66LLLK-l14PK",
        "outputId": "1fb1e4d2-079f-41d7-cb9e-3036d636ecaa"
      },
      "outputs": [
        {
          "data": {
            "text/html": [
              "<div>\n",
              "<style scoped>\n",
              "    .dataframe tbody tr th:only-of-type {\n",
              "        vertical-align: middle;\n",
              "    }\n",
              "\n",
              "    .dataframe tbody tr th {\n",
              "        vertical-align: top;\n",
              "    }\n",
              "\n",
              "    .dataframe thead th {\n",
              "        text-align: right;\n",
              "    }\n",
              "</style>\n",
              "<table border=\"1\" class=\"dataframe\">\n",
              "  <thead>\n",
              "    <tr style=\"text-align: right;\">\n",
              "      <th></th>\n",
              "      <th>Area</th>\n",
              "      <th>Item</th>\n",
              "      <th>Year</th>\n",
              "      <th>hg/ha_yield</th>\n",
              "      <th>average_rain_fall_mm_per_year</th>\n",
              "      <th>pesticides_tonnes</th>\n",
              "      <th>avg_temp</th>\n",
              "      <th>types_de_sols</th>\n",
              "    </tr>\n",
              "  </thead>\n",
              "  <tbody>\n",
              "    <tr>\n",
              "      <th>0</th>\n",
              "      <td>Dakar</td>\n",
              "      <td>Mais</td>\n",
              "      <td>1990</td>\n",
              "      <td>36613</td>\n",
              "      <td>1485.0</td>\n",
              "      <td>121.0</td>\n",
              "      <td>16.37</td>\n",
              "      <td>Sableux</td>\n",
              "    </tr>\n",
              "    <tr>\n",
              "      <th>1</th>\n",
              "      <td>Dakar</td>\n",
              "      <td>Pattate</td>\n",
              "      <td>1990</td>\n",
              "      <td>66667</td>\n",
              "      <td>1485.0</td>\n",
              "      <td>121.0</td>\n",
              "      <td>16.37</td>\n",
              "      <td>Limoneux</td>\n",
              "    </tr>\n",
              "    <tr>\n",
              "      <th>2</th>\n",
              "      <td>Dakar</td>\n",
              "      <td>Rice</td>\n",
              "      <td>1990</td>\n",
              "      <td>23333</td>\n",
              "      <td>1485.0</td>\n",
              "      <td>121.0</td>\n",
              "      <td>16.37</td>\n",
              "      <td>Sableux</td>\n",
              "    </tr>\n",
              "    <tr>\n",
              "      <th>3</th>\n",
              "      <td>Dakar</td>\n",
              "      <td>Sorgho</td>\n",
              "      <td>1990</td>\n",
              "      <td>12500</td>\n",
              "      <td>1485.0</td>\n",
              "      <td>121.0</td>\n",
              "      <td>16.37</td>\n",
              "      <td>Argileux</td>\n",
              "    </tr>\n",
              "    <tr>\n",
              "      <th>4</th>\n",
              "      <td>Dakar</td>\n",
              "      <td>Mil</td>\n",
              "      <td>1990</td>\n",
              "      <td>7000</td>\n",
              "      <td>1485.0</td>\n",
              "      <td>121.0</td>\n",
              "      <td>16.37</td>\n",
              "      <td>Sableux</td>\n",
              "    </tr>\n",
              "    <tr>\n",
              "      <th>...</th>\n",
              "      <td>...</td>\n",
              "      <td>...</td>\n",
              "      <td>...</td>\n",
              "      <td>...</td>\n",
              "      <td>...</td>\n",
              "      <td>...</td>\n",
              "      <td>...</td>\n",
              "      <td>...</td>\n",
              "    </tr>\n",
              "    <tr>\n",
              "      <th>7085</th>\n",
              "      <td>Ziguinchor</td>\n",
              "      <td>Arachide</td>\n",
              "      <td>2007</td>\n",
              "      <td>65610</td>\n",
              "      <td>703.0</td>\n",
              "      <td>3336.0</td>\n",
              "      <td>9.87</td>\n",
              "      <td>Sableux</td>\n",
              "    </tr>\n",
              "    <tr>\n",
              "      <th>7086</th>\n",
              "      <td>Ziguinchor</td>\n",
              "      <td>Pattate</td>\n",
              "      <td>2008</td>\n",
              "      <td>416339</td>\n",
              "      <td>703.0</td>\n",
              "      <td>4145.0</td>\n",
              "      <td>9.82</td>\n",
              "      <td>Limoneux</td>\n",
              "    </tr>\n",
              "    <tr>\n",
              "      <th>7087</th>\n",
              "      <td>Ziguinchor</td>\n",
              "      <td>Arachide</td>\n",
              "      <td>2008</td>\n",
              "      <td>78638</td>\n",
              "      <td>703.0</td>\n",
              "      <td>4145.0</td>\n",
              "      <td>9.82</td>\n",
              "      <td>Limoneux</td>\n",
              "    </tr>\n",
              "    <tr>\n",
              "      <th>7088</th>\n",
              "      <td>Ziguinchor</td>\n",
              "      <td>Pattate</td>\n",
              "      <td>2009</td>\n",
              "      <td>415861</td>\n",
              "      <td>703.0</td>\n",
              "      <td>2836.0</td>\n",
              "      <td>9.22</td>\n",
              "      <td>Sableux</td>\n",
              "    </tr>\n",
              "    <tr>\n",
              "      <th>7089</th>\n",
              "      <td>Ziguinchor</td>\n",
              "      <td>Arachide</td>\n",
              "      <td>2009</td>\n",
              "      <td>80373</td>\n",
              "      <td>703.0</td>\n",
              "      <td>2836.0</td>\n",
              "      <td>9.22</td>\n",
              "      <td>Limoneux</td>\n",
              "    </tr>\n",
              "  </tbody>\n",
              "</table>\n",
              "<p>7090 rows × 8 columns</p>\n",
              "</div>"
            ],
            "text/plain": [
              "            Area      Item  Year  hg/ha_yield  average_rain_fall_mm_per_year  \\\n",
              "0          Dakar      Mais  1990        36613                         1485.0   \n",
              "1          Dakar   Pattate  1990        66667                         1485.0   \n",
              "2          Dakar      Rice  1990        23333                         1485.0   \n",
              "3          Dakar    Sorgho  1990        12500                         1485.0   \n",
              "4          Dakar       Mil  1990         7000                         1485.0   \n",
              "...          ...       ...   ...          ...                            ...   \n",
              "7085  Ziguinchor  Arachide  2007        65610                          703.0   \n",
              "7086  Ziguinchor   Pattate  2008       416339                          703.0   \n",
              "7087  Ziguinchor  Arachide  2008        78638                          703.0   \n",
              "7088  Ziguinchor   Pattate  2009       415861                          703.0   \n",
              "7089  Ziguinchor  Arachide  2009        80373                          703.0   \n",
              "\n",
              "      pesticides_tonnes  avg_temp types_de_sols  \n",
              "0                 121.0     16.37       Sableux  \n",
              "1                 121.0     16.37      Limoneux  \n",
              "2                 121.0     16.37       Sableux  \n",
              "3                 121.0     16.37      Argileux  \n",
              "4                 121.0     16.37       Sableux  \n",
              "...                 ...       ...           ...  \n",
              "7085             3336.0      9.87       Sableux  \n",
              "7086             4145.0      9.82      Limoneux  \n",
              "7087             4145.0      9.82      Limoneux  \n",
              "7088             2836.0      9.22       Sableux  \n",
              "7089             2836.0      9.22      Limoneux  \n",
              "\n",
              "[7090 rows x 8 columns]"
            ]
          },
          "execution_count": 138,
          "metadata": {},
          "output_type": "execute_result"
        }
      ],
      "source": [
        "df"
      ]
    },
    {
      "cell_type": "code",
      "execution_count": 139,
      "metadata": {
        "colab": {
          "base_uri": "https://localhost:8080/"
        },
        "id": "YeCDNOSf14PK",
        "outputId": "9e8e34f6-7318-400a-b458-e48c7a299302"
      },
      "outputs": [
        {
          "name": "stdout",
          "output_type": "stream",
          "text": [
            "<class 'pandas.core.frame.DataFrame'>\n",
            "Index: 7090 entries, 0 to 7089\n",
            "Data columns (total 8 columns):\n",
            " #   Column                         Non-Null Count  Dtype  \n",
            "---  ------                         --------------  -----  \n",
            " 0   Area                           7090 non-null   object \n",
            " 1   Item                           7090 non-null   object \n",
            " 2   Year                           7090 non-null   int64  \n",
            " 3   hg/ha_yield                    7090 non-null   int64  \n",
            " 4   average_rain_fall_mm_per_year  7090 non-null   float64\n",
            " 5   pesticides_tonnes              7090 non-null   float64\n",
            " 6   avg_temp                       7090 non-null   float64\n",
            " 7   types_de_sols                  7090 non-null   object \n",
            "dtypes: float64(3), int64(2), object(3)\n",
            "memory usage: 498.5+ KB\n"
          ]
        }
      ],
      "source": [
        "df.info()"
      ]
    },
    {
      "cell_type": "markdown",
      "metadata": {
        "id": "C39ofvlq14PK"
      },
      "source": [
        "# Graph Frequency vs Area"
      ]
    },
    {
      "cell_type": "code",
      "execution_count": 195,
      "metadata": {},
      "outputs": [
        {
          "name": "stdout",
          "output_type": "stream",
          "text": [
            "     0\n",
            "0  1.0\n"
          ]
        }
      ],
      "source": [
        "import pandas as pd\n",
        "from sklearn.preprocessing import LabelEncoder\n",
        "\n",
        "# Encoder les variables catégorielles en numériques\n",
        "label_encoder = LabelEncoder()\n",
        "label_encoder.fit_transform(df[\"Area\"])\n",
        "\n",
        "# Calculer la corrélation\n",
        "correlation_matrix = pd.DataFrame(label_encoder.fit_transform(df[\"Area\"])).corr()\n",
        "\n",
        "# Afficher la matrice de corrélation\n",
        "print(correlation_matrix)\n"
      ]
    },
    {
      "cell_type": "code",
      "execution_count": 140,
      "metadata": {
        "colab": {
          "base_uri": "https://localhost:8080/",
          "height": 1000
        },
        "id": "iKRnu_qz14PK",
        "outputId": "39850f6b-9778-4846-beed-a06f9f5ff7eb"
      },
      "outputs": [
        {
          "data": {
            "text/plain": [
              "<Axes: xlabel='count', ylabel='Area'>"
            ]
          },
          "execution_count": 140,
          "metadata": {},
          "output_type": "execute_result"
        },
        {
          "data": {
            "image/png": "[encoded data removed]",
            "text/plain": [
              "<Figure size 1000x2000 with 1 Axes>"
            ]
          },
          "metadata": {},
          "output_type": "display_data"
        }
      ],
      "source": [
        "plt.figure(figsize=(10,20))\n",
        "sns.countplot(y=df['Area'])"
      ]
    },
    {
      "cell_type": "markdown",
      "metadata": {
        "id": "te-P0BRw14PL"
      },
      "source": [
        "# Yield per country"
      ]
    },
    {
      "cell_type": "code",
      "execution_count": 142,
      "metadata": {
        "colab": {
          "base_uri": "https://localhost:8080/"
        },
        "id": "GgIHMCji14PL",
        "outputId": "53301a4c-3b14-4f9b-c96b-ffc0f27b604d"
      },
      "outputs": [
        {
          "data": {
            "text/plain": [
              "12"
            ]
          },
          "execution_count": 142,
          "metadata": {},
          "output_type": "execute_result"
        }
      ],
      "source": [
        "len(df['Area'])\n",
        "#cela duplique le nombre de regions\n",
        "\n",
        "\n",
        "country = len(df['Area'].unique())\n",
        "\n",
        "country\n",
        "\n",
        "#Il y a 14 regions"
      ]
    },
    {
      "cell_type": "code",
      "execution_count": 143,
      "metadata": {
        "colab": {
          "base_uri": "https://localhost:8080/"
        },
        "id": "4zov9kKa14PL",
        "outputId": "f4412b7e-380f-4b41-a37e-333d53134cf2"
      },
      "outputs": [
        {
          "data": {
            "text/plain": [
              "array(['Dakar', 'Thiès', 'Fatick', 'Kaffrine', 'Kédougou', 'Kolda',\n",
              "       'Louga', 'Matam', 'Saint-Louis', 'Sédhiou', 'Tambacounda',\n",
              "       'Ziguinchor'], dtype=object)"
            ]
          },
          "execution_count": 143,
          "metadata": {},
          "output_type": "execute_result"
        }
      ],
      "source": [
        "country = (df['Area'].unique())\n",
        "country"
      ]
    },
    {
      "cell_type": "code",
      "execution_count": 144,
      "metadata": {
        "id": "JYncsNfq14PL"
      },
      "outputs": [],
      "source": [
        "yield_per_country = []\n",
        "for state in country:\n",
        "    yield_per_country.append(df[df['Area']==state]['hg/ha_yield'].sum())"
      ]
    },
    {
      "cell_type": "code",
      "execution_count": 145,
      "metadata": {
        "colab": {
          "base_uri": "https://localhost:8080/"
        },
        "id": "UjLig2iD14PM",
        "outputId": "321dfea0-7a51-4757-a8a8-a327025a1502"
      },
      "outputs": [
        {
          "data": {
            "text/plain": [
              "[12423000,\n",
              " 38586595,\n",
              " 113635162,\n",
              " 15460638,\n",
              " 8828606,\n",
              " 20145130,\n",
              " 8912921,\n",
              " 173813381,\n",
              " 13114483,\n",
              " 45424805,\n",
              " 51743979,\n",
              " 16784818]"
            ]
          },
          "execution_count": 145,
          "metadata": {},
          "output_type": "execute_result"
        }
      ],
      "source": [
        "yield_per_country"
      ]
    },
    {
      "cell_type": "markdown",
      "metadata": {
        "id": "XGFj7Tme14PM"
      },
      "source": [
        "# Yield per country graph"
      ]
    },
    {
      "cell_type": "code",
      "execution_count": 146,
      "metadata": {
        "colab": {
          "base_uri": "https://localhost:8080/",
          "height": 993
        },
        "id": "kD18jxkP14PM",
        "outputId": "c247aeef-408e-44bb-ec00-83ab6b4b8594"
      },
      "outputs": [
        {
          "data": {
            "text/plain": [
              "<Axes: >"
            ]
          },
          "execution_count": 146,
          "metadata": {},
          "output_type": "execute_result"
        },
        {
          "data": {
            "image/png": "[encoded data removed]",
            "text/plain": [
              "<Figure size 1500x2000 with 1 Axes>"
            ]
          },
          "metadata": {},
          "output_type": "display_data"
        }
      ],
      "source": [
        "plt.figure(figsize=(15, 20))\n",
        "sns.barplot(y=country, x=yield_per_country)"
      ]
    },
    {
      "cell_type": "markdown",
      "metadata": {
        "id": "83nwtQDY14PM"
      },
      "source": [
        "# Graph Frequency vs Item"
      ]
    },
    {
      "cell_type": "code",
      "execution_count": 24,
      "metadata": {
        "colab": {
          "base_uri": "https://localhost:8080/",
          "height": 467
        },
        "id": "MhJXcmKp14PM",
        "outputId": "60794277-0024-4ad1-fcd4-b5d38828e52d"
      },
      "outputs": [
        {
          "data": {
            "text/plain": [
              "<Axes: xlabel='count', ylabel='Item'>"
            ]
          },
          "execution_count": 24,
          "metadata": {},
          "output_type": "execute_result"
        },
        {
          "data": {
            "image/png": "[encoded data removed]",
            "text/plain": [
              "<Figure size 640x480 with 1 Axes>"
            ]
          },
          "metadata": {},
          "output_type": "display_data"
        }
      ],
      "source": [
        "sns.countplot(y=df['Item'])\n",
        "\n",
        "#Il y a plus de cultivation de potatoes et Maïs"
      ]
    },
    {
      "cell_type": "markdown",
      "metadata": {
        "id": "bVUzVDDF14PN"
      },
      "source": [
        "# Yield Vs Item"
      ]
    },
    {
      "cell_type": "code",
      "execution_count": 147,
      "metadata": {
        "id": "ldkXalPI14PN"
      },
      "outputs": [],
      "source": [
        "crops = df['Item'].unique()"
      ]
    },
    {
      "cell_type": "code",
      "execution_count": 148,
      "metadata": {
        "id": "P5arWQK214PN"
      },
      "outputs": [],
      "source": [
        "yield_per_crop = []\n",
        "for crop in crops:\n",
        "    yield_per_crop.append(df[df['Item']==crop]['hg/ha_yield'].sum())"
      ]
    },
    {
      "cell_type": "code",
      "execution_count": 149,
      "metadata": {
        "colab": {
          "base_uri": "https://localhost:8080/"
        },
        "id": "VteWX2M414PW",
        "outputId": "58a60f0c-4460-4945-c784-13b4a5728ff1"
      },
      "outputs": [
        {
          "data": {
            "text/plain": [
              "[47985613,\n",
              " 198138737,\n",
              " 33213013,\n",
              " 16775463,\n",
              " 17184535,\n",
              " 24676566,\n",
              " 53339613,\n",
              " 86363878,\n",
              " 6203454,\n",
              " 34992646]"
            ]
          },
          "execution_count": 149,
          "metadata": {},
          "output_type": "execute_result"
        }
      ],
      "source": [
        "yield_per_crop\n",
        "#Rendements par culture"
      ]
    },
    {
      "cell_type": "code",
      "execution_count": 150,
      "metadata": {
        "colab": {
          "base_uri": "https://localhost:8080/",
          "height": 466
        },
        "id": "Fv8KK1r014PW",
        "outputId": "4e816b0f-29b7-4277-84ca-3fc09441356c"
      },
      "outputs": [
        {
          "data": {
            "text/plain": [
              "<Axes: >"
            ]
          },
          "execution_count": 150,
          "metadata": {},
          "output_type": "execute_result"
        },
        {
          "data": {
            "image/png": "[encoded data removed]",
            "text/plain": [
              "<Figure size 640x480 with 1 Axes>"
            ]
          },
          "metadata": {},
          "output_type": "display_data"
        }
      ],
      "source": [
        "sns.barplot(y=crops,x=yield_per_crop)"
      ]
    },
    {
      "cell_type": "markdown",
      "metadata": {
        "id": "aafBXThs14PX"
      },
      "source": [
        "# Train test split rearranging columns"
      ]
    },
    {
      "cell_type": "code",
      "execution_count": 29,
      "metadata": {
        "colab": {
          "base_uri": "https://localhost:8080/",
          "height": 443
        },
        "id": "32lDSQzQ14PX",
        "outputId": "e8d4cc72-2da8-4721-a03f-b576d51d97c3"
      },
      "outputs": [
        {
          "data": {
            "text/html": [
              "<div>\n",
              "<style scoped>\n",
              "    .dataframe tbody tr th:only-of-type {\n",
              "        vertical-align: middle;\n",
              "    }\n",
              "\n",
              "    .dataframe tbody tr th {\n",
              "        vertical-align: top;\n",
              "    }\n",
              "\n",
              "    .dataframe thead th {\n",
              "        text-align: right;\n",
              "    }\n",
              "</style>\n",
              "<table border=\"1\" class=\"dataframe\">\n",
              "  <thead>\n",
              "    <tr style=\"text-align: right;\">\n",
              "      <th></th>\n",
              "      <th>Area</th>\n",
              "      <th>Item</th>\n",
              "      <th>Year</th>\n",
              "      <th>hg/ha_yield</th>\n",
              "      <th>average_rain_fall_mm_per_year</th>\n",
              "      <th>pesticides_tonnes</th>\n",
              "      <th>avg_temp</th>\n",
              "      <th>types_de_sols</th>\n",
              "    </tr>\n",
              "  </thead>\n",
              "  <tbody>\n",
              "    <tr>\n",
              "      <th>0</th>\n",
              "      <td>Dakar</td>\n",
              "      <td>Mais</td>\n",
              "      <td>1990</td>\n",
              "      <td>36613</td>\n",
              "      <td>1485.0</td>\n",
              "      <td>121.0</td>\n",
              "      <td>16.37</td>\n",
              "      <td>Limoneux</td>\n",
              "    </tr>\n",
              "    <tr>\n",
              "      <th>1</th>\n",
              "      <td>Dakar</td>\n",
              "      <td>Pattate</td>\n",
              "      <td>1990</td>\n",
              "      <td>66667</td>\n",
              "      <td>1485.0</td>\n",
              "      <td>121.0</td>\n",
              "      <td>16.37</td>\n",
              "      <td>Sableux</td>\n",
              "    </tr>\n",
              "    <tr>\n",
              "      <th>2</th>\n",
              "      <td>Dakar</td>\n",
              "      <td>Rice</td>\n",
              "      <td>1990</td>\n",
              "      <td>23333</td>\n",
              "      <td>1485.0</td>\n",
              "      <td>121.0</td>\n",
              "      <td>16.37</td>\n",
              "      <td>Limoneux</td>\n",
              "    </tr>\n",
              "    <tr>\n",
              "      <th>3</th>\n",
              "      <td>Dakar</td>\n",
              "      <td>Sorgho</td>\n",
              "      <td>1990</td>\n",
              "      <td>12500</td>\n",
              "      <td>1485.0</td>\n",
              "      <td>121.0</td>\n",
              "      <td>16.37</td>\n",
              "      <td>Limoneux</td>\n",
              "    </tr>\n",
              "    <tr>\n",
              "      <th>4</th>\n",
              "      <td>Dakar</td>\n",
              "      <td>Mil</td>\n",
              "      <td>1990</td>\n",
              "      <td>7000</td>\n",
              "      <td>1485.0</td>\n",
              "      <td>121.0</td>\n",
              "      <td>16.37</td>\n",
              "      <td>Argileux</td>\n",
              "    </tr>\n",
              "    <tr>\n",
              "      <th>...</th>\n",
              "      <td>...</td>\n",
              "      <td>...</td>\n",
              "      <td>...</td>\n",
              "      <td>...</td>\n",
              "      <td>...</td>\n",
              "      <td>...</td>\n",
              "      <td>...</td>\n",
              "      <td>...</td>\n",
              "    </tr>\n",
              "    <tr>\n",
              "      <th>7085</th>\n",
              "      <td>Ziguinchor</td>\n",
              "      <td>Arachide</td>\n",
              "      <td>2007</td>\n",
              "      <td>65610</td>\n",
              "      <td>703.0</td>\n",
              "      <td>3336.0</td>\n",
              "      <td>9.87</td>\n",
              "      <td>Argileux</td>\n",
              "    </tr>\n",
              "    <tr>\n",
              "      <th>7086</th>\n",
              "      <td>Ziguinchor</td>\n",
              "      <td>Pattate</td>\n",
              "      <td>2008</td>\n",
              "      <td>416339</td>\n",
              "      <td>703.0</td>\n",
              "      <td>4145.0</td>\n",
              "      <td>9.82</td>\n",
              "      <td>Limoneux</td>\n",
              "    </tr>\n",
              "    <tr>\n",
              "      <th>7087</th>\n",
              "      <td>Ziguinchor</td>\n",
              "      <td>Arachide</td>\n",
              "      <td>2008</td>\n",
              "      <td>78638</td>\n",
              "      <td>703.0</td>\n",
              "      <td>4145.0</td>\n",
              "      <td>9.82</td>\n",
              "      <td>Argileux</td>\n",
              "    </tr>\n",
              "    <tr>\n",
              "      <th>7088</th>\n",
              "      <td>Ziguinchor</td>\n",
              "      <td>Pattate</td>\n",
              "      <td>2009</td>\n",
              "      <td>415861</td>\n",
              "      <td>703.0</td>\n",
              "      <td>2836.0</td>\n",
              "      <td>9.22</td>\n",
              "      <td>Argileux</td>\n",
              "    </tr>\n",
              "    <tr>\n",
              "      <th>7089</th>\n",
              "      <td>Ziguinchor</td>\n",
              "      <td>Arachide</td>\n",
              "      <td>2009</td>\n",
              "      <td>80373</td>\n",
              "      <td>703.0</td>\n",
              "      <td>2836.0</td>\n",
              "      <td>9.22</td>\n",
              "      <td>Argileux</td>\n",
              "    </tr>\n",
              "  </tbody>\n",
              "</table>\n",
              "<p>7090 rows × 8 columns</p>\n",
              "</div>"
            ],
            "text/plain": [
              "            Area      Item  Year  hg/ha_yield  average_rain_fall_mm_per_year  \\\n",
              "0          Dakar      Mais  1990        36613                         1485.0   \n",
              "1          Dakar   Pattate  1990        66667                         1485.0   \n",
              "2          Dakar      Rice  1990        23333                         1485.0   \n",
              "3          Dakar    Sorgho  1990        12500                         1485.0   \n",
              "4          Dakar       Mil  1990         7000                         1485.0   \n",
              "...          ...       ...   ...          ...                            ...   \n",
              "7085  Ziguinchor  Arachide  2007        65610                          703.0   \n",
              "7086  Ziguinchor   Pattate  2008       416339                          703.0   \n",
              "7087  Ziguinchor  Arachide  2008        78638                          703.0   \n",
              "7088  Ziguinchor   Pattate  2009       415861                          703.0   \n",
              "7089  Ziguinchor  Arachide  2009        80373                          703.0   \n",
              "\n",
              "      pesticides_tonnes  avg_temp types_de_sols  \n",
              "0                 121.0     16.37      Limoneux  \n",
              "1                 121.0     16.37       Sableux  \n",
              "2                 121.0     16.37      Limoneux  \n",
              "3                 121.0     16.37      Limoneux  \n",
              "4                 121.0     16.37      Argileux  \n",
              "...                 ...       ...           ...  \n",
              "7085             3336.0      9.87      Argileux  \n",
              "7086             4145.0      9.82      Limoneux  \n",
              "7087             4145.0      9.82      Argileux  \n",
              "7088             2836.0      9.22      Argileux  \n",
              "7089             2836.0      9.22      Argileux  \n",
              "\n",
              "[7090 rows x 8 columns]"
            ]
          },
          "execution_count": 29,
          "metadata": {},
          "output_type": "execute_result"
        }
      ],
      "source": [
        "df\n",
        "#Output variable : hg/ha_yield et le reste ce sont des inputs. On va donc l'extraire à la fin\n"
      ]
    },
    {
      "cell_type": "code",
      "execution_count": 151,
      "metadata": {
        "colab": {
          "base_uri": "https://localhost:8080/"
        },
        "id": "O4mueLg_t7OT",
        "outputId": "13fc5cb1-ba99-4abb-c16e-a7f2a990bb06"
      },
      "outputs": [
        {
          "data": {
            "text/plain": [
              "Index(['Area', 'Item', 'Year', 'hg/ha_yield', 'average_rain_fall_mm_per_year',\n",
              "       'pesticides_tonnes', 'avg_temp', 'types_de_sols'],\n",
              "      dtype='object')"
            ]
          },
          "execution_count": 151,
          "metadata": {},
          "output_type": "execute_result"
        }
      ],
      "source": [
        "df.keys()"
      ]
    },
    {
      "cell_type": "code",
      "execution_count": 152,
      "metadata": {
        "id": "6J4RKAEo14PX"
      },
      "outputs": [],
      "source": [
        "col = ['Year','types_de_sols' ,'average_rain_fall_mm_per_year','pesticides_tonnes', 'avg_temp', 'Area', 'Item', 'hg/ha_yield']\n",
        "df = df[col]\n"
      ]
    },
    {
      "cell_type": "code",
      "execution_count": 153,
      "metadata": {
        "colab": {
          "base_uri": "https://localhost:8080/",
          "height": 443
        },
        "id": "T2UF7nOh14PX",
        "outputId": "58ba4744-9177-4102-ea65-ea1349301eaf"
      },
      "outputs": [
        {
          "data": {
            "text/html": [
              "<div>\n",
              "<style scoped>\n",
              "    .dataframe tbody tr th:only-of-type {\n",
              "        vertical-align: middle;\n",
              "    }\n",
              "\n",
              "    .dataframe tbody tr th {\n",
              "        vertical-align: top;\n",
              "    }\n",
              "\n",
              "    .dataframe thead th {\n",
              "        text-align: right;\n",
              "    }\n",
              "</style>\n",
              "<table border=\"1\" class=\"dataframe\">\n",
              "  <thead>\n",
              "    <tr style=\"text-align: right;\">\n",
              "      <th></th>\n",
              "      <th>Year</th>\n",
              "      <th>types_de_sols</th>\n",
              "      <th>average_rain_fall_mm_per_year</th>\n",
              "      <th>pesticides_tonnes</th>\n",
              "      <th>avg_temp</th>\n",
              "      <th>Area</th>\n",
              "      <th>Item</th>\n",
              "      <th>hg/ha_yield</th>\n",
              "    </tr>\n",
              "  </thead>\n",
              "  <tbody>\n",
              "    <tr>\n",
              "      <th>0</th>\n",
              "      <td>1990</td>\n",
              "      <td>Sableux</td>\n",
              "      <td>1485.0</td>\n",
              "      <td>121.0</td>\n",
              "      <td>16.37</td>\n",
              "      <td>Dakar</td>\n",
              "      <td>Mais</td>\n",
              "      <td>36613</td>\n",
              "    </tr>\n",
              "    <tr>\n",
              "      <th>1</th>\n",
              "      <td>1990</td>\n",
              "      <td>Limoneux</td>\n",
              "      <td>1485.0</td>\n",
              "      <td>121.0</td>\n",
              "      <td>16.37</td>\n",
              "      <td>Dakar</td>\n",
              "      <td>Pattate</td>\n",
              "      <td>66667</td>\n",
              "    </tr>\n",
              "    <tr>\n",
              "      <th>2</th>\n",
              "      <td>1990</td>\n",
              "      <td>Sableux</td>\n",
              "      <td>1485.0</td>\n",
              "      <td>121.0</td>\n",
              "      <td>16.37</td>\n",
              "      <td>Dakar</td>\n",
              "      <td>Rice</td>\n",
              "      <td>23333</td>\n",
              "    </tr>\n",
              "    <tr>\n",
              "      <th>3</th>\n",
              "      <td>1990</td>\n",
              "      <td>Argileux</td>\n",
              "      <td>1485.0</td>\n",
              "      <td>121.0</td>\n",
              "      <td>16.37</td>\n",
              "      <td>Dakar</td>\n",
              "      <td>Sorgho</td>\n",
              "      <td>12500</td>\n",
              "    </tr>\n",
              "    <tr>\n",
              "      <th>4</th>\n",
              "      <td>1990</td>\n",
              "      <td>Sableux</td>\n",
              "      <td>1485.0</td>\n",
              "      <td>121.0</td>\n",
              "      <td>16.37</td>\n",
              "      <td>Dakar</td>\n",
              "      <td>Mil</td>\n",
              "      <td>7000</td>\n",
              "    </tr>\n",
              "    <tr>\n",
              "      <th>...</th>\n",
              "      <td>...</td>\n",
              "      <td>...</td>\n",
              "      <td>...</td>\n",
              "      <td>...</td>\n",
              "      <td>...</td>\n",
              "      <td>...</td>\n",
              "      <td>...</td>\n",
              "      <td>...</td>\n",
              "    </tr>\n",
              "    <tr>\n",
              "      <th>7085</th>\n",
              "      <td>2007</td>\n",
              "      <td>Sableux</td>\n",
              "      <td>703.0</td>\n",
              "      <td>3336.0</td>\n",
              "      <td>9.87</td>\n",
              "      <td>Ziguinchor</td>\n",
              "      <td>Arachide</td>\n",
              "      <td>65610</td>\n",
              "    </tr>\n",
              "    <tr>\n",
              "      <th>7086</th>\n",
              "      <td>2008</td>\n",
              "      <td>Limoneux</td>\n",
              "      <td>703.0</td>\n",
              "      <td>4145.0</td>\n",
              "      <td>9.82</td>\n",
              "      <td>Ziguinchor</td>\n",
              "      <td>Pattate</td>\n",
              "      <td>416339</td>\n",
              "    </tr>\n",
              "    <tr>\n",
              "      <th>7087</th>\n",
              "      <td>2008</td>\n",
              "      <td>Limoneux</td>\n",
              "      <td>703.0</td>\n",
              "      <td>4145.0</td>\n",
              "      <td>9.82</td>\n",
              "      <td>Ziguinchor</td>\n",
              "      <td>Arachide</td>\n",
              "      <td>78638</td>\n",
              "    </tr>\n",
              "    <tr>\n",
              "      <th>7088</th>\n",
              "      <td>2009</td>\n",
              "      <td>Sableux</td>\n",
              "      <td>703.0</td>\n",
              "      <td>2836.0</td>\n",
              "      <td>9.22</td>\n",
              "      <td>Ziguinchor</td>\n",
              "      <td>Pattate</td>\n",
              "      <td>415861</td>\n",
              "    </tr>\n",
              "    <tr>\n",
              "      <th>7089</th>\n",
              "      <td>2009</td>\n",
              "      <td>Limoneux</td>\n",
              "      <td>703.0</td>\n",
              "      <td>2836.0</td>\n",
              "      <td>9.22</td>\n",
              "      <td>Ziguinchor</td>\n",
              "      <td>Arachide</td>\n",
              "      <td>80373</td>\n",
              "    </tr>\n",
              "  </tbody>\n",
              "</table>\n",
              "<p>7090 rows × 8 columns</p>\n",
              "</div>"
            ],
            "text/plain": [
              "      Year types_de_sols  average_rain_fall_mm_per_year  pesticides_tonnes  \\\n",
              "0     1990       Sableux                         1485.0              121.0   \n",
              "1     1990      Limoneux                         1485.0              121.0   \n",
              "2     1990       Sableux                         1485.0              121.0   \n",
              "3     1990      Argileux                         1485.0              121.0   \n",
              "4     1990       Sableux                         1485.0              121.0   \n",
              "...    ...           ...                            ...                ...   \n",
              "7085  2007       Sableux                          703.0             3336.0   \n",
              "7086  2008      Limoneux                          703.0             4145.0   \n",
              "7087  2008      Limoneux                          703.0             4145.0   \n",
              "7088  2009       Sableux                          703.0             2836.0   \n",
              "7089  2009      Limoneux                          703.0             2836.0   \n",
              "\n",
              "      avg_temp        Area      Item  hg/ha_yield  \n",
              "0        16.37       Dakar      Mais        36613  \n",
              "1        16.37       Dakar   Pattate        66667  \n",
              "2        16.37       Dakar      Rice        23333  \n",
              "3        16.37       Dakar    Sorgho        12500  \n",
              "4        16.37       Dakar       Mil         7000  \n",
              "...        ...         ...       ...          ...  \n",
              "7085      9.87  Ziguinchor  Arachide        65610  \n",
              "7086      9.82  Ziguinchor   Pattate       416339  \n",
              "7087      9.82  Ziguinchor  Arachide        78638  \n",
              "7088      9.22  Ziguinchor   Pattate       415861  \n",
              "7089      9.22  Ziguinchor  Arachide        80373  \n",
              "\n",
              "[7090 rows x 8 columns]"
            ]
          },
          "execution_count": 153,
          "metadata": {},
          "output_type": "execute_result"
        }
      ],
      "source": [
        "df"
      ]
    },
    {
      "cell_type": "code",
      "execution_count": 154,
      "metadata": {
        "id": "0hhvs-Ui14PY"
      },
      "outputs": [],
      "source": [
        "X = df.iloc[:, :-1]\n",
        "y = df.iloc[:, -1]\n",
        "\n",
        "#Ou x= df.drop('hg/ha_yield, axis=1)\n",
        "#y= df['hg/ha_yield']"
      ]
    },
    {
      "cell_type": "code",
      "execution_count": 155,
      "metadata": {
        "colab": {
          "base_uri": "https://localhost:8080/"
        },
        "id": "AIaTbNkC14PY",
        "outputId": "7042f95b-a6f7-4456-bfba-921a7b2f820a"
      },
      "outputs": [
        {
          "name": "stdout",
          "output_type": "stream",
          "text": [
            "Requirement already satisfied: scikit-learn in c:\\users\\hp\\appdata\\local\\programs\\python\\python310\\lib\\site-packages (1.4.2)\n",
            "Requirement already satisfied: scipy>=1.6.0 in c:\\users\\hp\\appdata\\local\\programs\\python\\python310\\lib\\site-packages (from scikit-learn) (1.13.0)\n",
            "Requirement already satisfied: joblib>=1.2.0 in c:\\users\\hp\\appdata\\local\\programs\\python\\python310\\lib\\site-packages (from scikit-learn) (1.4.2)\n",
            "Requirement already satisfied: numpy>=1.19.5 in c:\\users\\hp\\appdata\\local\\programs\\python\\python310\\lib\\site-packages (from scikit-learn) (1.26.4)\n",
            "Requirement already satisfied: threadpoolctl>=2.0.0 in c:\\users\\hp\\appdata\\local\\programs\\python\\python310\\lib\\site-packages (from scikit-learn) (3.5.0)\n"
          ]
        },
        {
          "name": "stderr",
          "output_type": "stream",
          "text": [
            "WARNING: You are using pip version 21.2.3; however, version 24.0 is available.\n",
            "You should consider upgrading via the 'C:\\Users\\hp\\AppData\\Local\\Programs\\Python\\Python310\\python.exe -m pip install --upgrade pip' command.\n"
          ]
        }
      ],
      "source": [
        "!pip install scikit-learn"
      ]
    },
    {
      "cell_type": "code",
      "execution_count": 156,
      "metadata": {
        "id": "fgIAILvV14PY"
      },
      "outputs": [],
      "source": [
        "import sklearn\n",
        "#Majoritairement pour classification, régression logistique, clustering"
      ]
    },
    {
      "cell_type": "code",
      "execution_count": 157,
      "metadata": {
        "id": "9WRUjwn614PY"
      },
      "outputs": [],
      "source": [
        "from sklearn.model_selection import train_test_split"
      ]
    },
    {
      "cell_type": "code",
      "execution_count": 158,
      "metadata": {
        "id": "70xKnAxU14PY"
      },
      "outputs": [],
      "source": [
        "X_train, X_test, y_train, y_test = train_test_split(X, y, test_size=0.2, random_state=42, shuffle=True)\n",
        "\n",
        "#80% dans la train et 20% dans la test"
      ]
    },
    {
      "cell_type": "code",
      "execution_count": 159,
      "metadata": {
        "colab": {
          "base_uri": "https://localhost:8080/"
        },
        "id": "LM25uYTI14PZ",
        "outputId": "59fa7fd9-c2eb-4f7e-c8fa-12e64282141f"
      },
      "outputs": [
        {
          "data": {
            "text/plain": [
              "(5672, 7)"
            ]
          },
          "execution_count": 159,
          "metadata": {},
          "output_type": "execute_result"
        }
      ],
      "source": [
        "\n",
        "X_train.shape"
      ]
    },
    {
      "cell_type": "code",
      "execution_count": 160,
      "metadata": {
        "colab": {
          "base_uri": "https://localhost:8080/"
        },
        "id": "ojesfMRn14PZ",
        "outputId": "567cc6f5-b0ef-46cc-93c2-6d8e82158d57"
      },
      "outputs": [
        {
          "data": {
            "text/plain": [
              "(1418, 7)"
            ]
          },
          "execution_count": 160,
          "metadata": {},
          "output_type": "execute_result"
        }
      ],
      "source": [
        "X_test.shape"
      ]
    },
    {
      "cell_type": "code",
      "execution_count": 161,
      "metadata": {
        "colab": {
          "base_uri": "https://localhost:8080/",
          "height": 513
        },
        "id": "J76BY8Dc14PZ",
        "outputId": "dd2b1642-1d0b-4796-f867-f23054902bbd"
      },
      "outputs": [
        {
          "data": {
            "text/html": [
              "<div>\n",
              "<style scoped>\n",
              "    .dataframe tbody tr th:only-of-type {\n",
              "        vertical-align: middle;\n",
              "    }\n",
              "\n",
              "    .dataframe tbody tr th {\n",
              "        vertical-align: top;\n",
              "    }\n",
              "\n",
              "    .dataframe thead th {\n",
              "        text-align: right;\n",
              "    }\n",
              "</style>\n",
              "<table border=\"1\" class=\"dataframe\">\n",
              "  <thead>\n",
              "    <tr style=\"text-align: right;\">\n",
              "      <th></th>\n",
              "      <th>Year</th>\n",
              "      <th>types_de_sols</th>\n",
              "      <th>average_rain_fall_mm_per_year</th>\n",
              "      <th>pesticides_tonnes</th>\n",
              "      <th>avg_temp</th>\n",
              "      <th>Area</th>\n",
              "      <th>Item</th>\n",
              "    </tr>\n",
              "  </thead>\n",
              "  <tbody>\n",
              "    <tr>\n",
              "      <th>5148</th>\n",
              "      <td>1990</td>\n",
              "      <td>Argileux</td>\n",
              "      <td>1274.0</td>\n",
              "      <td>92.08</td>\n",
              "      <td>21.15</td>\n",
              "      <td>Saint-Louis</td>\n",
              "      <td>Arachide</td>\n",
              "    </tr>\n",
              "    <tr>\n",
              "      <th>3011</th>\n",
              "      <td>1994</td>\n",
              "      <td>Sableux</td>\n",
              "      <td>1761.0</td>\n",
              "      <td>84312.78</td>\n",
              "      <td>19.15</td>\n",
              "      <td>Matam</td>\n",
              "      <td>Manioc</td>\n",
              "    </tr>\n",
              "    <tr>\n",
              "      <th>6044</th>\n",
              "      <td>2010</td>\n",
              "      <td>Argileux</td>\n",
              "      <td>537.0</td>\n",
              "      <td>61050.00</td>\n",
              "      <td>7.77</td>\n",
              "      <td>Sédhiou</td>\n",
              "      <td>Pattate</td>\n",
              "    </tr>\n",
              "    <tr>\n",
              "      <th>5192</th>\n",
              "      <td>1995</td>\n",
              "      <td>Argileux</td>\n",
              "      <td>1274.0</td>\n",
              "      <td>144.20</td>\n",
              "      <td>21.55</td>\n",
              "      <td>Saint-Louis</td>\n",
              "      <td>Manioc</td>\n",
              "    </tr>\n",
              "    <tr>\n",
              "      <th>2228</th>\n",
              "      <td>2002</td>\n",
              "      <td>Argileux</td>\n",
              "      <td>2666.0</td>\n",
              "      <td>2954.29</td>\n",
              "      <td>26.10</td>\n",
              "      <td>Kolda</td>\n",
              "      <td>Pattate</td>\n",
              "    </tr>\n",
              "    <tr>\n",
              "      <th>...</th>\n",
              "      <td>...</td>\n",
              "      <td>...</td>\n",
              "      <td>...</td>\n",
              "      <td>...</td>\n",
              "      <td>...</td>\n",
              "      <td>...</td>\n",
              "      <td>...</td>\n",
              "    </tr>\n",
              "    <tr>\n",
              "      <th>3772</th>\n",
              "      <td>2002</td>\n",
              "      <td>Sableux</td>\n",
              "      <td>1761.0</td>\n",
              "      <td>145552.00</td>\n",
              "      <td>25.18</td>\n",
              "      <td>Matam</td>\n",
              "      <td>Rice</td>\n",
              "    </tr>\n",
              "    <tr>\n",
              "      <th>5191</th>\n",
              "      <td>1995</td>\n",
              "      <td>Limoneux</td>\n",
              "      <td>1274.0</td>\n",
              "      <td>144.20</td>\n",
              "      <td>21.55</td>\n",
              "      <td>Saint-Louis</td>\n",
              "      <td>Mil</td>\n",
              "    </tr>\n",
              "    <tr>\n",
              "      <th>5226</th>\n",
              "      <td>1999</td>\n",
              "      <td>Limoneux</td>\n",
              "      <td>1274.0</td>\n",
              "      <td>150.24</td>\n",
              "      <td>21.01</td>\n",
              "      <td>Saint-Louis</td>\n",
              "      <td>Sorgho</td>\n",
              "    </tr>\n",
              "    <tr>\n",
              "      <th>5390</th>\n",
              "      <td>1994</td>\n",
              "      <td>Limoneux</td>\n",
              "      <td>1604.0</td>\n",
              "      <td>411.42</td>\n",
              "      <td>24.93</td>\n",
              "      <td>Sédhiou</td>\n",
              "      <td>Niebe</td>\n",
              "    </tr>\n",
              "    <tr>\n",
              "      <th>860</th>\n",
              "      <td>1991</td>\n",
              "      <td>Limoneux</td>\n",
              "      <td>534.0</td>\n",
              "      <td>17866.00</td>\n",
              "      <td>18.73</td>\n",
              "      <td>Fatick</td>\n",
              "      <td>Pattate</td>\n",
              "    </tr>\n",
              "  </tbody>\n",
              "</table>\n",
              "<p>5672 rows × 7 columns</p>\n",
              "</div>"
            ],
            "text/plain": [
              "      Year types_de_sols  average_rain_fall_mm_per_year  pesticides_tonnes  \\\n",
              "5148  1990      Argileux                         1274.0              92.08   \n",
              "3011  1994       Sableux                         1761.0           84312.78   \n",
              "6044  2010      Argileux                          537.0           61050.00   \n",
              "5192  1995      Argileux                         1274.0             144.20   \n",
              "2228  2002      Argileux                         2666.0            2954.29   \n",
              "...    ...           ...                            ...                ...   \n",
              "3772  2002       Sableux                         1761.0          145552.00   \n",
              "5191  1995      Limoneux                         1274.0             144.20   \n",
              "5226  1999      Limoneux                         1274.0             150.24   \n",
              "5390  1994      Limoneux                         1604.0             411.42   \n",
              "860   1991      Limoneux                          534.0           17866.00   \n",
              "\n",
              "      avg_temp         Area      Item  \n",
              "5148     21.15  Saint-Louis  Arachide  \n",
              "3011     19.15        Matam    Manioc  \n",
              "6044      7.77      Sédhiou   Pattate  \n",
              "5192     21.55  Saint-Louis    Manioc  \n",
              "2228     26.10        Kolda   Pattate  \n",
              "...        ...          ...       ...  \n",
              "3772     25.18        Matam      Rice  \n",
              "5191     21.55  Saint-Louis       Mil  \n",
              "5226     21.01  Saint-Louis    Sorgho  \n",
              "5390     24.93      Sédhiou     Niebe  \n",
              "860      18.73       Fatick   Pattate  \n",
              "\n",
              "[5672 rows x 7 columns]"
            ]
          },
          "execution_count": 161,
          "metadata": {},
          "output_type": "execute_result"
        }
      ],
      "source": [
        "X_train"
      ]
    },
    {
      "cell_type": "markdown",
      "metadata": {
        "id": "r4_LZdrx14PZ"
      },
      "source": [
        "# Converting Categorical to Numerical and Scaling the values"
      ]
    },
    {
      "cell_type": "code",
      "execution_count": 162,
      "metadata": {
        "id": "9E8ey8rC14Pa"
      },
      "outputs": [],
      "source": [
        "from sklearn.preprocessing import OneHotEncoder, StandardScaler\n",
        "from sklearn.compose import ColumnTransformer\n"
      ]
    },
    {
      "cell_type": "code",
      "execution_count": 163,
      "metadata": {
        "id": "qiJYPrgY14Pa"
      },
      "outputs": [],
      "source": [
        "ohe = OneHotEncoder(drop='first')\n",
        "scale = StandardScaler()"
      ]
    },
    {
      "cell_type": "code",
      "execution_count": 164,
      "metadata": {
        "colab": {
          "base_uri": "https://localhost:8080/",
          "height": 118
        },
        "id": "c7MmgIaJ14Pa",
        "outputId": "1603ea14-659d-4c56-ce67-eacab600b52f"
      },
      "outputs": [
        {
          "data": {
            "text/html": [
              "<div>\n",
              "<style scoped>\n",
              "    .dataframe tbody tr th:only-of-type {\n",
              "        vertical-align: middle;\n",
              "    }\n",
              "\n",
              "    .dataframe tbody tr th {\n",
              "        vertical-align: top;\n",
              "    }\n",
              "\n",
              "    .dataframe thead th {\n",
              "        text-align: right;\n",
              "    }\n",
              "</style>\n",
              "<table border=\"1\" class=\"dataframe\">\n",
              "  <thead>\n",
              "    <tr style=\"text-align: right;\">\n",
              "      <th></th>\n",
              "      <th>Year</th>\n",
              "      <th>types_de_sols</th>\n",
              "      <th>average_rain_fall_mm_per_year</th>\n",
              "      <th>pesticides_tonnes</th>\n",
              "      <th>avg_temp</th>\n",
              "      <th>Area</th>\n",
              "      <th>Item</th>\n",
              "    </tr>\n",
              "  </thead>\n",
              "  <tbody>\n",
              "    <tr>\n",
              "      <th>5148</th>\n",
              "      <td>1990</td>\n",
              "      <td>Argileux</td>\n",
              "      <td>1274.0</td>\n",
              "      <td>92.08</td>\n",
              "      <td>21.15</td>\n",
              "      <td>Saint-Louis</td>\n",
              "      <td>Arachide</td>\n",
              "    </tr>\n",
              "  </tbody>\n",
              "</table>\n",
              "</div>"
            ],
            "text/plain": [
              "      Year types_de_sols  average_rain_fall_mm_per_year  pesticides_tonnes  \\\n",
              "5148  1990      Argileux                         1274.0              92.08   \n",
              "\n",
              "      avg_temp         Area      Item  \n",
              "5148     21.15  Saint-Louis  Arachide  "
            ]
          },
          "execution_count": 164,
          "metadata": {},
          "output_type": "execute_result"
        }
      ],
      "source": [
        "\n",
        "X_train.head(1)"
      ]
    },
    {
      "cell_type": "code",
      "execution_count": 165,
      "metadata": {
        "id": "6dRSGYdX14Pb"
      },
      "outputs": [],
      "source": [
        "preprocesser = ColumnTransformer(\n",
        "        transformers = [\n",
        "            ('StandardScale', scale, [0,2,3,4]),\n",
        "            ('OHE', ohe, [1,5,6]),\n",
        "        ],\n",
        "        remainder='passthrough'\n",
        ")\n",
        "\n",
        "#Le OneHotEncoder est utilisé pour traiter des variables catégorielles ou des caractéristiques nominales => on va mettre des 1 et des 0 pour mieux comprendre\n",
        "#  les variables catégorielles\n",
        "#Le StandardScaler est utilisé pour mettre à l'échelle les caractéristiques numériques de manière à ce qu'elles aient une moyenne (mean) de 0 et un écart-type\n",
        "#  (standard deviation) de 1. ==> normalisation\n",
        "\n",
        "\n",
        "#On va changer la 0eme, 1ere, 2eme et 3ème en 0 et 1 et la 4eme et 5eme colonne on laissera le nom de l'area et de l'item"
      ]
    },
    {
      "cell_type": "code",
      "execution_count": 166,
      "metadata": {
        "colab": {
          "base_uri": "https://localhost:8080/",
          "height": 116
        },
        "id": "rskyflwg14Pb",
        "outputId": "aa7209c3-50c2-41b1-f8d5-c4c540f936c9"
      },
      "outputs": [
        {
          "data": {
            "text/html": [
              "<style>#sk-container-id-2 {\n",
              "  /* Definition of color scheme common for light and dark mode */\n",
              "  --sklearn-color-text: black;\n",
              "  --sklearn-color-line: gray;\n",
              "  /* Definition of color scheme for unfitted estimators */\n",
              "  --sklearn-color-unfitted-level-0: #fff5e6;\n",
              "  --sklearn-color-unfitted-level-1: #f6e4d2;\n",
              "  --sklearn-color-unfitted-level-2: #ffe0b3;\n",
              "  --sklearn-color-unfitted-level-3: chocolate;\n",
              "  /* Definition of color scheme for fitted estimators */\n",
              "  --sklearn-color-fitted-level-0: #f0f8ff;\n",
              "  --sklearn-color-fitted-level-1: #d4ebff;\n",
              "  --sklearn-color-fitted-level-2: #b3dbfd;\n",
              "  --sklearn-color-fitted-level-3: cornflowerblue;\n",
              "\n",
              "  /* Specific color for light theme */\n",
              "  --sklearn-color-text-on-default-background: var(--sg-text-color, var(--theme-code-foreground, var(--jp-content-font-color1, black)));\n",
              "  --sklearn-color-background: var(--sg-background-color, var(--theme-background, var(--jp-layout-color0, white)));\n",
              "  --sklearn-color-border-box: var(--sg-text-color, var(--theme-code-foreground, var(--jp-content-font-color1, black)));\n",
              "  --sklearn-color-icon: #696969;\n",
              "\n",
              "  @media (prefers-color-scheme: dark) {\n",
              "    /* Redefinition of color scheme for dark theme */\n",
              "    --sklearn-color-text-on-default-background: var(--sg-text-color, var(--theme-code-foreground, var(--jp-content-font-color1, white)));\n",
              "    --sklearn-color-background: var(--sg-background-color, var(--theme-background, var(--jp-layout-color0, #111)));\n",
              "    --sklearn-color-border-box: var(--sg-text-color, var(--theme-code-foreground, var(--jp-content-font-color1, white)));\n",
              "    --sklearn-color-icon: #878787;\n",
              "  }\n",
              "}\n",
              "\n",
              "#sk-container-id-2 {\n",
              "  color: var(--sklearn-color-text);\n",
              "}\n",
              "\n",
              "#sk-container-id-2 pre {\n",
              "  padding: 0;\n",
              "}\n",
              "\n",
              "#sk-container-id-2 input.sk-hidden--visually {\n",
              "  border: 0;\n",
              "  clip: rect(1px 1px 1px 1px);\n",
              "  clip: rect(1px, 1px, 1px, 1px);\n",
              "  height: 1px;\n",
              "  margin: -1px;\n",
              "  overflow: hidden;\n",
              "  padding: 0;\n",
              "  position: absolute;\n",
              "  width: 1px;\n",
              "}\n",
              "\n",
              "#sk-container-id-2 div.sk-dashed-wrapped {\n",
              "  border: 1px dashed var(--sklearn-color-line);\n",
              "  margin: 0 0.4em 0.5em 0.4em;\n",
              "  box-sizing: border-box;\n",
              "  padding-bottom: 0.4em;\n",
              "  background-color: var(--sklearn-color-background);\n",
              "}\n",
              "\n",
              "#sk-container-id-2 div.sk-container {\n",
              "  /* jupyter's `normalize.less` sets `[hidden] { display: none; }`\n",
              "     but bootstrap.min.css set `[hidden] { display: none !important; }`\n",
              "     so we also need the `!important` here to be able to override the\n",
              "     default hidden behavior on the sphinx rendered scikit-learn.org.\n",
              "     See: https://github.com/scikit-learn/scikit-learn/issues/21755 */\n",
              "  display: inline-block !important;\n",
              "  position: relative;\n",
              "}\n",
              "\n",
              "#sk-container-id-2 div.sk-text-repr-fallback {\n",
              "  display: none;\n",
              "}\n",
              "\n",
              "div.sk-parallel-item,\n",
              "div.sk-serial,\n",
              "div.sk-item {\n",
              "  /* draw centered vertical line to link estimators */\n",
              "  background-image: linear-gradient(var(--sklearn-color-text-on-default-background), var(--sklearn-color-text-on-default-background));\n",
              "  background-size: 2px 100%;\n",
              "  background-repeat: no-repeat;\n",
              "  background-position: center center;\n",
              "}\n",
              "\n",
              "/* Parallel-specific style estimator block */\n",
              "\n",
              "#sk-container-id-2 div.sk-parallel-item::after {\n",
              "  content: \"\";\n",
              "  width: 100%;\n",
              "  border-bottom: 2px solid var(--sklearn-color-text-on-default-background);\n",
              "  flex-grow: 1;\n",
              "}\n",
              "\n",
              "#sk-container-id-2 div.sk-parallel {\n",
              "  display: flex;\n",
              "  align-items: stretch;\n",
              "  justify-content: center;\n",
              "  background-color: var(--sklearn-color-background);\n",
              "  position: relative;\n",
              "}\n",
              "\n",
              "#sk-container-id-2 div.sk-parallel-item {\n",
              "  display: flex;\n",
              "  flex-direction: column;\n",
              "}\n",
              "\n",
              "#sk-container-id-2 div.sk-parallel-item:first-child::after {\n",
              "  align-self: flex-end;\n",
              "  width: 50%;\n",
              "}\n",
              "\n",
              "#sk-container-id-2 div.sk-parallel-item:last-child::after {\n",
              "  align-self: flex-start;\n",
              "  width: 50%;\n",
              "}\n",
              "\n",
              "#sk-container-id-2 div.sk-parallel-item:only-child::after {\n",
              "  width: 0;\n",
              "}\n",
              "\n",
              "/* Serial-specific style estimator block */\n",
              "\n",
              "#sk-container-id-2 div.sk-serial {\n",
              "  display: flex;\n",
              "  flex-direction: column;\n",
              "  align-items: center;\n",
              "  background-color: var(--sklearn-color-background);\n",
              "  padding-right: 1em;\n",
              "  padding-left: 1em;\n",
              "}\n",
              "\n",
              "\n",
              "/* Toggleable style: style used for estimator/Pipeline/ColumnTransformer box that is\n",
              "clickable and can be expanded/collapsed.\n",
              "- Pipeline and ColumnTransformer use this feature and define the default style\n",
              "- Estimators will overwrite some part of the style using the `sk-estimator` class\n",
              "*/\n",
              "\n",
              "/* Pipeline and ColumnTransformer style (default) */\n",
              "\n",
              "#sk-container-id-2 div.sk-toggleable {\n",
              "  /* Default theme specific background. It is overwritten whether we have a\n",
              "  specific estimator or a Pipeline/ColumnTransformer */\n",
              "  background-color: var(--sklearn-color-background);\n",
              "}\n",
              "\n",
              "/* Toggleable label */\n",
              "#sk-container-id-2 label.sk-toggleable__label {\n",
              "  cursor: pointer;\n",
              "  display: block;\n",
              "  width: 100%;\n",
              "  margin-bottom: 0;\n",
              "  padding: 0.5em;\n",
              "  box-sizing: border-box;\n",
              "  text-align: center;\n",
              "}\n",
              "\n",
              "#sk-container-id-2 label.sk-toggleable__label-arrow:before {\n",
              "  /* Arrow on the left of the label */\n",
              "  content: \"▸\";\n",
              "  float: left;\n",
              "  margin-right: 0.25em;\n",
              "  color: var(--sklearn-color-icon);\n",
              "}\n",
              "\n",
              "#sk-container-id-2 label.sk-toggleable__label-arrow:hover:before {\n",
              "  color: var(--sklearn-color-text);\n",
              "}\n",
              "\n",
              "/* Toggleable content - dropdown */\n",
              "\n",
              "#sk-container-id-2 div.sk-toggleable__content {\n",
              "  max-height: 0;\n",
              "  max-width: 0;\n",
              "  overflow: hidden;\n",
              "  text-align: left;\n",
              "  /* unfitted */\n",
              "  background-color: var(--sklearn-color-unfitted-level-0);\n",
              "}\n",
              "\n",
              "#sk-container-id-2 div.sk-toggleable__content.fitted {\n",
              "  /* fitted */\n",
              "  background-color: var(--sklearn-color-fitted-level-0);\n",
              "}\n",
              "\n",
              "#sk-container-id-2 div.sk-toggleable__content pre {\n",
              "  margin: 0.2em;\n",
              "  border-radius: 0.25em;\n",
              "  color: var(--sklearn-color-text);\n",
              "  /* unfitted */\n",
              "  background-color: var(--sklearn-color-unfitted-level-0);\n",
              "}\n",
              "\n",
              "#sk-container-id-2 div.sk-toggleable__content.fitted pre {\n",
              "  /* unfitted */\n",
              "  background-color: var(--sklearn-color-fitted-level-0);\n",
              "}\n",
              "\n",
              "#sk-container-id-2 input.sk-toggleable__control:checked~div.sk-toggleable__content {\n",
              "  /* Expand drop-down */\n",
              "  max-height: 200px;\n",
              "  max-width: 100%;\n",
              "  overflow: auto;\n",
              "}\n",
              "\n",
              "#sk-container-id-2 input.sk-toggleable__control:checked~label.sk-toggleable__label-arrow:before {\n",
              "  content: \"▾\";\n",
              "}\n",
              "\n",
              "/* Pipeline/ColumnTransformer-specific style */\n",
              "\n",
              "#sk-container-id-2 div.sk-label input.sk-toggleable__control:checked~label.sk-toggleable__label {\n",
              "  color: var(--sklearn-color-text);\n",
              "  background-color: var(--sklearn-color-unfitted-level-2);\n",
              "}\n",
              "\n",
              "#sk-container-id-2 div.sk-label.fitted input.sk-toggleable__control:checked~label.sk-toggleable__label {\n",
              "  background-color: var(--sklearn-color-fitted-level-2);\n",
              "}\n",
              "\n",
              "/* Estimator-specific style */\n",
              "\n",
              "/* Colorize estimator box */\n",
              "#sk-container-id-2 div.sk-estimator input.sk-toggleable__control:checked~label.sk-toggleable__label {\n",
              "  /* unfitted */\n",
              "  background-color: var(--sklearn-color-unfitted-level-2);\n",
              "}\n",
              "\n",
              "#sk-container-id-2 div.sk-estimator.fitted input.sk-toggleable__control:checked~label.sk-toggleable__label {\n",
              "  /* fitted */\n",
              "  background-color: var(--sklearn-color-fitted-level-2);\n",
              "}\n",
              "\n",
              "#sk-container-id-2 div.sk-label label.sk-toggleable__label,\n",
              "#sk-container-id-2 div.sk-label label {\n",
              "  /* The background is the default theme color */\n",
              "  color: var(--sklearn-color-text-on-default-background);\n",
              "}\n",
              "\n",
              "/* On hover, darken the color of the background */\n",
              "#sk-container-id-2 div.sk-label:hover label.sk-toggleable__label {\n",
              "  color: var(--sklearn-color-text);\n",
              "  background-color: var(--sklearn-color-unfitted-level-2);\n",
              "}\n",
              "\n",
              "/* Label box, darken color on hover, fitted */\n",
              "#sk-container-id-2 div.sk-label.fitted:hover label.sk-toggleable__label.fitted {\n",
              "  color: var(--sklearn-color-text);\n",
              "  background-color: var(--sklearn-color-fitted-level-2);\n",
              "}\n",
              "\n",
              "/* Estimator label */\n",
              "\n",
              "#sk-container-id-2 div.sk-label label {\n",
              "  font-family: monospace;\n",
              "  font-weight: bold;\n",
              "  display: inline-block;\n",
              "  line-height: 1.2em;\n",
              "}\n",
              "\n",
              "#sk-container-id-2 div.sk-label-container {\n",
              "  text-align: center;\n",
              "}\n",
              "\n",
              "/* Estimator-specific */\n",
              "#sk-container-id-2 div.sk-estimator {\n",
              "  font-family: monospace;\n",
              "  border: 1px dotted var(--sklearn-color-border-box);\n",
              "  border-radius: 0.25em;\n",
              "  box-sizing: border-box;\n",
              "  margin-bottom: 0.5em;\n",
              "  /* unfitted */\n",
              "  background-color: var(--sklearn-color-unfitted-level-0);\n",
              "}\n",
              "\n",
              "#sk-container-id-2 div.sk-estimator.fitted {\n",
              "  /* fitted */\n",
              "  background-color: var(--sklearn-color-fitted-level-0);\n",
              "}\n",
              "\n",
              "/* on hover */\n",
              "#sk-container-id-2 div.sk-estimator:hover {\n",
              "  /* unfitted */\n",
              "  background-color: var(--sklearn-color-unfitted-level-2);\n",
              "}\n",
              "\n",
              "#sk-container-id-2 div.sk-estimator.fitted:hover {\n",
              "  /* fitted */\n",
              "  background-color: var(--sklearn-color-fitted-level-2);\n",
              "}\n",
              "\n",
              "/* Specification for estimator info (e.g. \"i\" and \"?\") */\n",
              "\n",
              "/* Common style for \"i\" and \"?\" */\n",
              "\n",
              ".sk-estimator-doc-link,\n",
              "a:link.sk-estimator-doc-link,\n",
              "a:visited.sk-estimator-doc-link {\n",
              "  float: right;\n",
              "  font-size: smaller;\n",
              "  line-height: 1em;\n",
              "  font-family: monospace;\n",
              "  background-color: var(--sklearn-color-background);\n",
              "  border-radius: 1em;\n",
              "  height: 1em;\n",
              "  width: 1em;\n",
              "  text-decoration: none !important;\n",
              "  margin-left: 1ex;\n",
              "  /* unfitted */\n",
              "  border: var(--sklearn-color-unfitted-level-1) 1pt solid;\n",
              "  color: var(--sklearn-color-unfitted-level-1);\n",
              "}\n",
              "\n",
              ".sk-estimator-doc-link.fitted,\n",
              "a:link.sk-estimator-doc-link.fitted,\n",
              "a:visited.sk-estimator-doc-link.fitted {\n",
              "  /* fitted */\n",
              "  border: var(--sklearn-color-fitted-level-1) 1pt solid;\n",
              "  color: var(--sklearn-color-fitted-level-1);\n",
              "}\n",
              "\n",
              "/* On hover */\n",
              "div.sk-estimator:hover .sk-estimator-doc-link:hover,\n",
              ".sk-estimator-doc-link:hover,\n",
              "div.sk-label-container:hover .sk-estimator-doc-link:hover,\n",
              ".sk-estimator-doc-link:hover {\n",
              "  /* unfitted */\n",
              "  background-color: var(--sklearn-color-unfitted-level-3);\n",
              "  color: var(--sklearn-color-background);\n",
              "  text-decoration: none;\n",
              "}\n",
              "\n",
              "div.sk-estimator.fitted:hover .sk-estimator-doc-link.fitted:hover,\n",
              ".sk-estimator-doc-link.fitted:hover,\n",
              "div.sk-label-container:hover .sk-estimator-doc-link.fitted:hover,\n",
              ".sk-estimator-doc-link.fitted:hover {\n",
              "  /* fitted */\n",
              "  background-color: var(--sklearn-color-fitted-level-3);\n",
              "  color: var(--sklearn-color-background);\n",
              "  text-decoration: none;\n",
              "}\n",
              "\n",
              "/* Span, style for the box shown on hovering the info icon */\n",
              ".sk-estimator-doc-link span {\n",
              "  display: none;\n",
              "  z-index: 9999;\n",
              "  position: relative;\n",
              "  font-weight: normal;\n",
              "  right: .2ex;\n",
              "  padding: .5ex;\n",
              "  margin: .5ex;\n",
              "  width: min-content;\n",
              "  min-width: 20ex;\n",
              "  max-width: 50ex;\n",
              "  color: var(--sklearn-color-text);\n",
              "  box-shadow: 2pt 2pt 4pt #999;\n",
              "  /* unfitted */\n",
              "  background: var(--sklearn-color-unfitted-level-0);\n",
              "  border: .5pt solid var(--sklearn-color-unfitted-level-3);\n",
              "}\n",
              "\n",
              ".sk-estimator-doc-link.fitted span {\n",
              "  /* fitted */\n",
              "  background: var(--sklearn-color-fitted-level-0);\n",
              "  border: var(--sklearn-color-fitted-level-3);\n",
              "}\n",
              "\n",
              ".sk-estimator-doc-link:hover span {\n",
              "  display: block;\n",
              "}\n",
              "\n",
              "/* \"?\"-specific style due to the `<a>` HTML tag */\n",
              "\n",
              "#sk-container-id-2 a.estimator_doc_link {\n",
              "  float: right;\n",
              "  font-size: 1rem;\n",
              "  line-height: 1em;\n",
              "  font-family: monospace;\n",
              "  background-color: var(--sklearn-color-background);\n",
              "  border-radius: 1rem;\n",
              "  height: 1rem;\n",
              "  width: 1rem;\n",
              "  text-decoration: none;\n",
              "  /* unfitted */\n",
              "  color: var(--sklearn-color-unfitted-level-1);\n",
              "  border: var(--sklearn-color-unfitted-level-1) 1pt solid;\n",
              "}\n",
              "\n",
              "#sk-container-id-2 a.estimator_doc_link.fitted {\n",
              "  /* fitted */\n",
              "  border: var(--sklearn-color-fitted-level-1) 1pt solid;\n",
              "  color: var(--sklearn-color-fitted-level-1);\n",
              "}\n",
              "\n",
              "/* On hover */\n",
              "#sk-container-id-2 a.estimator_doc_link:hover {\n",
              "  /* unfitted */\n",
              "  background-color: var(--sklearn-color-unfitted-level-3);\n",
              "  color: var(--sklearn-color-background);\n",
              "  text-decoration: none;\n",
              "}\n",
              "\n",
              "#sk-container-id-2 a.estimator_doc_link.fitted:hover {\n",
              "  /* fitted */\n",
              "  background-color: var(--sklearn-color-fitted-level-3);\n",
              "}\n",
              "</style><div id=\"sk-container-id-2\" class=\"sk-top-container\"><div class=\"sk-text-repr-fallback\"><pre>ColumnTransformer(remainder=&#x27;passthrough&#x27;,\n",
              "                  transformers=[(&#x27;StandardScale&#x27;, StandardScaler(),\n",
              "                                 [0, 2, 3, 4]),\n",
              "                                (&#x27;OHE&#x27;, OneHotEncoder(drop=&#x27;first&#x27;),\n",
              "                                 [1, 5, 6])])</pre><b>In a Jupyter environment, please rerun this cell to show the HTML representation or trust the notebook. <br />On GitHub, the HTML representation is unable to render, please try loading this page with nbviewer.org.</b></div><div class=\"sk-container\" hidden><div class=\"sk-item sk-dashed-wrapped\"><div class=\"sk-label-container\"><div class=\"sk-label  sk-toggleable\"><input class=\"sk-toggleable__control sk-hidden--visually\" id=\"sk-estimator-id-8\" type=\"checkbox\" ><label for=\"sk-estimator-id-8\" class=\"sk-toggleable__label  sk-toggleable__label-arrow \">&nbsp;&nbsp;ColumnTransformer<a class=\"sk-estimator-doc-link \" rel=\"noreferrer\" target=\"_blank\" href=\"https://scikit-learn.org/1.4/modules/generated/sklearn.compose.ColumnTransformer.html\">?<span>Documentation for ColumnTransformer</span></a><span class=\"sk-estimator-doc-link \">i<span>Not fitted</span></span></label><div class=\"sk-toggleable__content \"><pre>ColumnTransformer(remainder=&#x27;passthrough&#x27;,\n",
              "                  transformers=[(&#x27;StandardScale&#x27;, StandardScaler(),\n",
              "                                 [0, 2, 3, 4]),\n",
              "                                (&#x27;OHE&#x27;, OneHotEncoder(drop=&#x27;first&#x27;),\n",
              "                                 [1, 5, 6])])</pre></div> </div></div><div class=\"sk-parallel\"><div class=\"sk-parallel-item\"><div class=\"sk-item\"><div class=\"sk-label-container\"><div class=\"sk-label  sk-toggleable\"><input class=\"sk-toggleable__control sk-hidden--visually\" id=\"sk-estimator-id-9\" type=\"checkbox\" ><label for=\"sk-estimator-id-9\" class=\"sk-toggleable__label  sk-toggleable__label-arrow \">StandardScale</label><div class=\"sk-toggleable__content \"><pre>[0, 2, 3, 4]</pre></div> </div></div><div class=\"sk-serial\"><div class=\"sk-item\"><div class=\"sk-estimator  sk-toggleable\"><input class=\"sk-toggleable__control sk-hidden--visually\" id=\"sk-estimator-id-10\" type=\"checkbox\" ><label for=\"sk-estimator-id-10\" class=\"sk-toggleable__label  sk-toggleable__label-arrow \">&nbsp;StandardScaler<a class=\"sk-estimator-doc-link \" rel=\"noreferrer\" target=\"_blank\" href=\"https://scikit-learn.org/1.4/modules/generated/sklearn.preprocessing.StandardScaler.html\">?<span>Documentation for StandardScaler</span></a></label><div class=\"sk-toggleable__content \"><pre>StandardScaler()</pre></div> </div></div></div></div></div><div class=\"sk-parallel-item\"><div class=\"sk-item\"><div class=\"sk-label-container\"><div class=\"sk-label  sk-toggleable\"><input class=\"sk-toggleable__control sk-hidden--visually\" id=\"sk-estimator-id-11\" type=\"checkbox\" ><label for=\"sk-estimator-id-11\" class=\"sk-toggleable__label  sk-toggleable__label-arrow \">OHE</label><div class=\"sk-toggleable__content \"><pre>[1, 5, 6]</pre></div> </div></div><div class=\"sk-serial\"><div class=\"sk-item\"><div class=\"sk-estimator  sk-toggleable\"><input class=\"sk-toggleable__control sk-hidden--visually\" id=\"sk-estimator-id-12\" type=\"checkbox\" ><label for=\"sk-estimator-id-12\" class=\"sk-toggleable__label  sk-toggleable__label-arrow \">&nbsp;OneHotEncoder<a class=\"sk-estimator-doc-link \" rel=\"noreferrer\" target=\"_blank\" href=\"https://scikit-learn.org/1.4/modules/generated/sklearn.preprocessing.OneHotEncoder.html\">?<span>Documentation for OneHotEncoder</span></a></label><div class=\"sk-toggleable__content \"><pre>OneHotEncoder(drop=&#x27;first&#x27;)</pre></div> </div></div></div></div></div><div class=\"sk-parallel-item\"><div class=\"sk-item\"><div class=\"sk-label-container\"><div class=\"sk-label  sk-toggleable\"><input class=\"sk-toggleable__control sk-hidden--visually\" id=\"sk-estimator-id-13\" type=\"checkbox\" ><label for=\"sk-estimator-id-13\" class=\"sk-toggleable__label  sk-toggleable__label-arrow \">remainder</label><div class=\"sk-toggleable__content \"><pre></pre></div> </div></div><div class=\"sk-serial\"><div class=\"sk-item\"><div class=\"sk-estimator  sk-toggleable\"><input class=\"sk-toggleable__control sk-hidden--visually\" id=\"sk-estimator-id-14\" type=\"checkbox\" ><label for=\"sk-estimator-id-14\" class=\"sk-toggleable__label  sk-toggleable__label-arrow \">passthrough</label><div class=\"sk-toggleable__content \"><pre>passthrough</pre></div> </div></div></div></div></div></div></div></div></div>"
            ],
            "text/plain": [
              "ColumnTransformer(remainder='passthrough',\n",
              "                  transformers=[('StandardScale', StandardScaler(),\n",
              "                                 [0, 2, 3, 4]),\n",
              "                                ('OHE', OneHotEncoder(drop='first'),\n",
              "                                 [1, 5, 6])])"
            ]
          },
          "execution_count": 166,
          "metadata": {},
          "output_type": "execute_result"
        }
      ],
      "source": [
        "preprocesser\n",
        "\n",
        "# En régression, le préprocesseur (ou prétraitement) fait référence à l'ensemble des étapes et des transformations que vous appliquez à vos données avant\n",
        "# de les utiliser pour entraîner un modèle de régression. Le but du prétraitement est de préparer les données de manière à ce qu'elles soient adaptées à\n",
        "#  l'apprentissage automatique et à la modélisation statistique"
      ]
    },
    {
      "cell_type": "code",
      "execution_count": 167,
      "metadata": {
        "id": "qeh-ajQK14Pb"
      },
      "outputs": [],
      "source": [
        "X_train_dummy = preprocesser.fit_transform(X_train)\n",
        "X_test_dummy = preprocesser.transform(X_test)"
      ]
    },
    {
      "cell_type": "code",
      "execution_count": 168,
      "metadata": {
        "colab": {
          "base_uri": "https://localhost:8080/"
        },
        "id": "q4glr_uP14Pb",
        "outputId": "208ada9c-04ed-4973-d753-fbd50bb4ef64"
      },
      "outputs": [
        {
          "data": {
            "text/plain": [
              "<5672x26 sparse matrix of type '<class 'numpy.float64'>'\n",
              "\twith 36745 stored elements in Compressed Sparse Row format>"
            ]
          },
          "execution_count": 168,
          "metadata": {},
          "output_type": "execute_result"
        }
      ],
      "source": [
        "X_train_dummy"
      ]
    },
    {
      "cell_type": "markdown",
      "metadata": {
        "id": "kqWesPGY14Pb"
      },
      "source": [
        "# Training Models"
      ]
    },
    {
      "cell_type": "code",
      "execution_count": 169,
      "metadata": {
        "id": "ah0GhrMg14Pc"
      },
      "outputs": [],
      "source": [
        "#linear regression\n",
        "from sklearn.linear_model import LinearRegression,Lasso,Ridge\n",
        "from sklearn.neighbors import KNeighborsRegressor\n",
        "from sklearn.tree import DecisionTreeRegressor\n",
        "from sklearn.metrics import mean_absolute_error,r2_score\n"
      ]
    },
    {
      "cell_type": "code",
      "execution_count": 170,
      "metadata": {
        "colab": {
          "base_uri": "https://localhost:8080/"
        },
        "id": "VmEzsDsQ14Pc",
        "outputId": "9a5ea85b-128f-4ef2-c451-fc30964d175e"
      },
      "outputs": [
        {
          "name": "stdout",
          "output_type": "stream",
          "text": [
            "lr : mae : 27947.252745291957 score : 0.7043229382720795\n",
            "lss : mae : 27939.46556217093 score : 0.704330094780532\n",
            "Rid : mae : 27874.280328043635 score : 0.7043756114945441\n",
            "Dtr : mae : 3691.837094499295 score : 0.9691947983233778\n"
          ]
        }
      ],
      "source": [
        "models = {\n",
        "    'lr':LinearRegression(),\n",
        "    'lss':Lasso(),\n",
        "    'Rid':Ridge(),\n",
        "    'Dtr':DecisionTreeRegressor()\n",
        "}\n",
        "for name, md in models.items():\n",
        "    md.fit(X_train_dummy,y_train)\n",
        "    y_pred = md.predict(X_test_dummy)\n",
        "\n",
        "    print(f\"{name} : mae : {mean_absolute_error(y_test,y_pred)} score : {r2_score(y_test,y_pred)}\")\n",
        "\n",
        "\n",
        "    #Régression Ridge et Lasso : Ce sont des variantes de la régression linéaire qui introduisent une régularisation pour éviter\n",
        "    #le surajustement (overfitting) et sélectionner automatiquement les caractéristiques les plus importantes."
      ]
    },
    {
      "cell_type": "markdown",
      "metadata": {
        "id": "iC-QGH2T14Pc"
      },
      "source": [
        "# Select model"
      ]
    },
    {
      "cell_type": "code",
      "execution_count": 171,
      "metadata": {
        "colab": {
          "base_uri": "https://localhost:8080/"
        },
        "id": "qrYHJc0y14Pc",
        "outputId": "e8e48ed7-7926-4abb-d9af-72355ea08818"
      },
      "outputs": [
        {
          "data": {
            "text/plain": [
              "array([17190., 24033., 32199., ..., 15541.,  7396., 95878.])"
            ]
          },
          "execution_count": 171,
          "metadata": {},
          "output_type": "execute_result"
        }
      ],
      "source": [
        "dtr = DecisionTreeRegressor()\n",
        "dtr.fit(X_train_dummy,y_train)\n",
        "dtr.predict(X_test_dummy)"
      ]
    },
    {
      "cell_type": "markdown",
      "metadata": {
        "id": "ueCcDQsI14Pd"
      },
      "source": [
        "# Predictive System"
      ]
    },
    {
      "cell_type": "code",
      "execution_count": 172,
      "metadata": {
        "id": "aH-2qH7M14Pd"
      },
      "outputs": [],
      "source": [
        "def prediction():\n",
        "    pass"
      ]
    },
    {
      "cell_type": "code",
      "execution_count": 173,
      "metadata": {
        "colab": {
          "base_uri": "https://localhost:8080/",
          "height": 132
        },
        "id": "58TXtkLiKyY4",
        "outputId": "c1bf4b5b-cc29-445c-efd6-ff2a05fcf348"
      },
      "outputs": [
        {
          "data": {
            "text/html": [
              "<div>\n",
              "<style scoped>\n",
              "    .dataframe tbody tr th:only-of-type {\n",
              "        vertical-align: middle;\n",
              "    }\n",
              "\n",
              "    .dataframe tbody tr th {\n",
              "        vertical-align: top;\n",
              "    }\n",
              "\n",
              "    .dataframe thead th {\n",
              "        text-align: right;\n",
              "    }\n",
              "</style>\n",
              "<table border=\"1\" class=\"dataframe\">\n",
              "  <thead>\n",
              "    <tr style=\"text-align: right;\">\n",
              "      <th></th>\n",
              "      <th>Year</th>\n",
              "      <th>types_de_sols</th>\n",
              "      <th>average_rain_fall_mm_per_year</th>\n",
              "      <th>pesticides_tonnes</th>\n",
              "      <th>avg_temp</th>\n",
              "      <th>Area</th>\n",
              "      <th>Item</th>\n",
              "      <th>hg/ha_yield</th>\n",
              "    </tr>\n",
              "  </thead>\n",
              "  <tbody>\n",
              "    <tr>\n",
              "      <th>0</th>\n",
              "      <td>1990</td>\n",
              "      <td>Sableux</td>\n",
              "      <td>1485.0</td>\n",
              "      <td>121.0</td>\n",
              "      <td>16.37</td>\n",
              "      <td>Dakar</td>\n",
              "      <td>Mais</td>\n",
              "      <td>36613</td>\n",
              "    </tr>\n",
              "    <tr>\n",
              "      <th>1</th>\n",
              "      <td>1990</td>\n",
              "      <td>Limoneux</td>\n",
              "      <td>1485.0</td>\n",
              "      <td>121.0</td>\n",
              "      <td>16.37</td>\n",
              "      <td>Dakar</td>\n",
              "      <td>Pattate</td>\n",
              "      <td>66667</td>\n",
              "    </tr>\n",
              "  </tbody>\n",
              "</table>\n",
              "</div>"
            ],
            "text/plain": [
              "   Year types_de_sols  average_rain_fall_mm_per_year  pesticides_tonnes  \\\n",
              "0  1990       Sableux                         1485.0              121.0   \n",
              "1  1990      Limoneux                         1485.0              121.0   \n",
              "\n",
              "   avg_temp   Area     Item  hg/ha_yield  \n",
              "0     16.37  Dakar     Mais        36613  \n",
              "1     16.37  Dakar  Pattate        66667  "
            ]
          },
          "execution_count": 173,
          "metadata": {},
          "output_type": "execute_result"
        }
      ],
      "source": [
        "df.head(2)"
      ]
    },
    {
      "cell_type": "code",
      "execution_count": 174,
      "metadata": {
        "id": "REGa4Six14Pd"
      },
      "outputs": [],
      "source": [
        "def prediction(Year, types_de_sols,average_rain_fall_mm_per_year, pesticides_tonnes, avg_temp, Area, Item):\n",
        "    # Create an array of the input features\n",
        "    features = np.array([[Year,types_de_sols ,average_rain_fall_mm_per_year, pesticides_tonnes, avg_temp, Area, Item]], dtype=object)\n",
        "\n",
        "    # Transform the features using the preprocessor\n",
        "    transformed_features = preprocesser.transform(features)\n",
        "\n",
        "    # Make the prediction\n",
        "    predicted_yield = dtr.predict(transformed_features).reshape(1, -1)\n",
        "\n",
        "    return predicted_yield[0]\n"
      ]
    },
    {
      "cell_type": "code",
      "execution_count": 55,
      "metadata": {
        "colab": {
          "base_uri": "https://localhost:8080/"
        },
        "id": "v4DTePFgUK4z",
        "outputId": "df1de523-38ba-4511-baa7-c606d60e91dd"
      },
      "outputs": [
        {
          "data": {
            "text/plain": [
              "(5672, 7)"
            ]
          },
          "execution_count": 55,
          "metadata": {},
          "output_type": "execute_result"
        }
      ],
      "source": [
        "X_train.shape"
      ]
    },
    {
      "cell_type": "code",
      "execution_count": 175,
      "metadata": {
        "colab": {
          "base_uri": "https://localhost:8080/"
        },
        "id": "qvf_1D5C14Pd",
        "outputId": "3588c43f-2097-4682-a75f-c835ac252ff2"
      },
      "outputs": [
        {
          "name": "stdout",
          "output_type": "stream",
          "text": [
            "[17190. 24033. 32199. 44261. 41138. 94453. 22750. 58268. 12416. 38000.]\n",
            "2794    17190\n",
            "3590    24033\n",
            "712     35063\n",
            "937     44261\n",
            "6987    40854\n",
            "6342    91000\n",
            "408     18972\n",
            "6348    62796\n",
            "5522    10000\n",
            "2029    40000\n",
            "Name: hg/ha_yield, dtype: int64\n"
          ]
        }
      ],
      "source": [
        "print(y_pred[:10])\n",
        "print(y_test[:10])"
      ]
    },
    {
      "cell_type": "markdown",
      "metadata": {},
      "source": [
        "# Save Model"
      ]
    },
    {
      "cell_type": "code",
      "execution_count": 59,
      "metadata": {
        "colab": {
          "base_uri": "https://localhost:8080/"
        },
        "id": "Tb46B9VUj3Hq",
        "outputId": "d39ab81f-edec-4b87-b96f-fc7673333bd0"
      },
      "outputs": [
        {
          "data": {
            "text/plain": [
              "['preprocesser.hdf5']"
            ]
          },
          "execution_count": 59,
          "metadata": {},
          "output_type": "execute_result"
        }
      ],
      "source": [
        "from joblib import dump, load\n",
        "\n",
        "dump(dtr, 'dtr.hdf5')\n",
        "dump(preprocesser, 'preprocesser.hdf5')"
      ]
    },
    {
      "cell_type": "markdown",
      "metadata": {
        "id": "0fOnOlge14Pe"
      },
      "source": [
        "# Estimation Revenu"
      ]
    },
    {
      "cell_type": "code",
      "execution_count": 1030,
      "metadata": {
        "colab": {
          "base_uri": "https://localhost:8080/"
        },
        "id": "gmZnpdzlPwhU",
        "outputId": "3ec703b8-63f3-4ea1-b437-24445d9b3bfd"
      },
      "outputs": [
        {
          "name": "stderr",
          "output_type": "stream",
          "text": [
            "/usr/local/lib/python3.10/dist-packages/sklearn/base.py:439: UserWarning: X does not have valid feature names, but StandardScaler was fitted with feature names\n",
            "  warnings.warn(\n",
            "/usr/local/lib/python3.10/dist-packages/sklearn/base.py:439: UserWarning: X does not have valid feature names, but OneHotEncoder was fitted with feature names\n",
            "  warnings.warn(\n"
          ]
        },
        {
          "data": {
            "text/plain": [
              "4188400.0"
            ]
          },
          "execution_count": 1030,
          "metadata": {},
          "output_type": "execute_result"
        }
      ],
      "source": [
        "def estimation_revenu(semance, mainsOeuvre, engrais, prixVenteUnitaire, rendement):\n",
        "    depences = semance + mainsOeuvre + engrais\n",
        "    revenu = prixVenteUnitaire *rendement - depences\n",
        "    return revenu\n",
        "\n",
        "prediction_yield = prediction(1990, 'Sableux',\t1274.0,\t92.08,\t21.15,\t'Saint-Louis'\t,'Arachide')\n",
        "estimation_revenu(1200,200000,22400, 500, prediction_yield)[0]"
      ]
    }
  ],
  "metadata": {
    "colab": {
      "provenance": []
    },
    "kernelspec": {
      "display_name": ".venv",
      "language": "python",
      "name": "python3"
    },
    "language_info": {
      "codemirror_mode": {
        "name": "ipython",
        "version": 3
      },
      "file_extension": ".py",
      "mimetype": "text/x-python",
      "name": "python",
      "nbconvert_exporter": "python",
      "pygments_lexer": "ipython3",
      "version": "3.10.0"
    },
    "orig_nbformat": 4,
    "vscode": {
      "interpreter": {
        "hash": "be6c6530d58df3ecb877ad0e9611c690c205139e92f7166498ba7f78b39c9351"
      }
    }
  },
  "nbformat": 4,
  "nbformat_minor": 0
}
